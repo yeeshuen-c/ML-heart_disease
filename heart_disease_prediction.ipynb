{
 "cells": [
  {
   "cell_type": "markdown",
   "id": "813e6cfb",
   "metadata": {},
   "source": [
    "## install sklearn"
   ]
  },
  {
   "cell_type": "code",
   "execution_count": 1,
   "id": "64451170",
   "metadata": {},
   "outputs": [
    {
     "name": "stdout",
     "output_type": "stream",
     "text": [
      "Requirement already satisfied: scikit-learn in c:\\users\\user\\appdata\\local\\programs\\python\\python310\\lib\\site-packages (1.1.1)\n",
      "Requirement already satisfied: scipy>=1.3.2 in c:\\users\\user\\appdata\\local\\programs\\python\\python310\\lib\\site-packages (from scikit-learn) (1.8.0)\n",
      "Requirement already satisfied: numpy>=1.17.3 in c:\\users\\user\\appdata\\local\\programs\\python\\python310\\lib\\site-packages (from scikit-learn) (1.22.3)\n",
      "Requirement already satisfied: joblib>=1.0.0 in c:\\users\\user\\appdata\\local\\programs\\python\\python310\\lib\\site-packages (from scikit-learn) (1.1.0)\n",
      "Requirement already satisfied: threadpoolctl>=2.0.0 in c:\\users\\user\\appdata\\local\\programs\\python\\python310\\lib\\site-packages (from scikit-learn) (3.1.0)\n"
     ]
    },
    {
     "name": "stderr",
     "output_type": "stream",
     "text": [
      "WARNING: You are using pip version 22.0.4; however, version 22.1.2 is available.\n",
      "You should consider upgrading via the 'C:\\Users\\user\\AppData\\Local\\Programs\\Python\\Python310\\python.exe -m pip install --upgrade pip' command.\n"
     ]
    }
   ],
   "source": [
    "! pip install scikit-learn"
   ]
  },
  {
   "cell_type": "markdown",
   "id": "ef259cb7",
   "metadata": {},
   "source": [
    "### import all libraries needed"
   ]
  },
  {
   "cell_type": "code",
   "execution_count": 2,
   "id": "065341b3",
   "metadata": {},
   "outputs": [],
   "source": [
    "import pandas as pd\n",
    "import numpy as np\n",
    "import seaborn as sns\n",
    "import matplotlib.pyplot as plt\n",
    "from pprint import pprint                                       #to print out dictionary\n",
    "import time                                                     #to calculate time taken\n",
    "from sklearn.model_selection import train_test_split            #for splitting\n",
    "from sklearn.feature_selection import SelectKBest,chi2          #for feature selection\n",
    "from sklearn.feature_selection import RFE                       #for feature selection\n",
    "from sklearn.model_selection import cross_val_score             #for cross validation\n",
    "from sklearn.tree import DecisionTreeClassifier                 \n",
    "from sklearn.svm import LinearSVC\n",
    "from sklearn.naive_bayes import GaussianNB,MultinomialNB\n",
    "from sklearn.metrics import confusion_matrix,classification_report #for performance measure"
   ]
  },
  {
   "cell_type": "code",
   "execution_count": 3,
   "id": "02b7a6c3",
   "metadata": {},
   "outputs": [
    {
     "name": "stdout",
     "output_type": "stream",
     "text": [
      "D:\\OneDrive - Universiti Sains Malaysia\\USM\\Y1S2\\CPC152\\CPC152_Group30\n"
     ]
    }
   ],
   "source": [
    "cd D:/OneDrive - Universiti Sains Malaysia/USM/Y1S2/CPC152/CPC152_Group30"
   ]
  },
  {
   "cell_type": "code",
   "execution_count": 4,
   "id": "1b66ebb9",
   "metadata": {},
   "outputs": [],
   "source": [
    "df=pd.read_csv('heart_disease.csv')  "
   ]
  },
  {
   "cell_type": "markdown",
   "id": "8c6b3c34",
   "metadata": {},
   "source": [
    "## EDA "
   ]
  },
  {
   "cell_type": "code",
   "execution_count": 5,
   "id": "865815bd",
   "metadata": {},
   "outputs": [
    {
     "data": {
      "text/html": [
       "<div>\n",
       "<style scoped>\n",
       "    .dataframe tbody tr th:only-of-type {\n",
       "        vertical-align: middle;\n",
       "    }\n",
       "\n",
       "    .dataframe tbody tr th {\n",
       "        vertical-align: top;\n",
       "    }\n",
       "\n",
       "    .dataframe thead th {\n",
       "        text-align: right;\n",
       "    }\n",
       "</style>\n",
       "<table border=\"1\" class=\"dataframe\">\n",
       "  <thead>\n",
       "    <tr style=\"text-align: right;\">\n",
       "      <th></th>\n",
       "      <th>age</th>\n",
       "      <th>sex</th>\n",
       "      <th>cp</th>\n",
       "      <th>trestbps</th>\n",
       "      <th>chol</th>\n",
       "      <th>fbs</th>\n",
       "      <th>restecg</th>\n",
       "      <th>thalach</th>\n",
       "      <th>exang</th>\n",
       "      <th>oldpeak</th>\n",
       "      <th>slope</th>\n",
       "      <th>ca</th>\n",
       "      <th>thal</th>\n",
       "      <th>target</th>\n",
       "    </tr>\n",
       "  </thead>\n",
       "  <tbody>\n",
       "    <tr>\n",
       "      <th>0</th>\n",
       "      <td>63</td>\n",
       "      <td>1</td>\n",
       "      <td>3</td>\n",
       "      <td>145</td>\n",
       "      <td>233</td>\n",
       "      <td>1</td>\n",
       "      <td>0</td>\n",
       "      <td>150</td>\n",
       "      <td>0</td>\n",
       "      <td>2.3</td>\n",
       "      <td>0</td>\n",
       "      <td>0</td>\n",
       "      <td>1</td>\n",
       "      <td>1</td>\n",
       "    </tr>\n",
       "    <tr>\n",
       "      <th>1</th>\n",
       "      <td>37</td>\n",
       "      <td>1</td>\n",
       "      <td>2</td>\n",
       "      <td>130</td>\n",
       "      <td>250</td>\n",
       "      <td>0</td>\n",
       "      <td>1</td>\n",
       "      <td>187</td>\n",
       "      <td>0</td>\n",
       "      <td>3.5</td>\n",
       "      <td>0</td>\n",
       "      <td>0</td>\n",
       "      <td>2</td>\n",
       "      <td>1</td>\n",
       "    </tr>\n",
       "    <tr>\n",
       "      <th>2</th>\n",
       "      <td>41</td>\n",
       "      <td>0</td>\n",
       "      <td>1</td>\n",
       "      <td>130</td>\n",
       "      <td>204</td>\n",
       "      <td>0</td>\n",
       "      <td>0</td>\n",
       "      <td>172</td>\n",
       "      <td>0</td>\n",
       "      <td>1.4</td>\n",
       "      <td>2</td>\n",
       "      <td>0</td>\n",
       "      <td>2</td>\n",
       "      <td>1</td>\n",
       "    </tr>\n",
       "    <tr>\n",
       "      <th>3</th>\n",
       "      <td>56</td>\n",
       "      <td>1</td>\n",
       "      <td>1</td>\n",
       "      <td>120</td>\n",
       "      <td>236</td>\n",
       "      <td>0</td>\n",
       "      <td>1</td>\n",
       "      <td>178</td>\n",
       "      <td>0</td>\n",
       "      <td>0.8</td>\n",
       "      <td>2</td>\n",
       "      <td>0</td>\n",
       "      <td>2</td>\n",
       "      <td>1</td>\n",
       "    </tr>\n",
       "    <tr>\n",
       "      <th>4</th>\n",
       "      <td>57</td>\n",
       "      <td>0</td>\n",
       "      <td>0</td>\n",
       "      <td>120</td>\n",
       "      <td>354</td>\n",
       "      <td>0</td>\n",
       "      <td>1</td>\n",
       "      <td>163</td>\n",
       "      <td>1</td>\n",
       "      <td>0.6</td>\n",
       "      <td>2</td>\n",
       "      <td>0</td>\n",
       "      <td>2</td>\n",
       "      <td>1</td>\n",
       "    </tr>\n",
       "    <tr>\n",
       "      <th>5</th>\n",
       "      <td>57</td>\n",
       "      <td>1</td>\n",
       "      <td>0</td>\n",
       "      <td>140</td>\n",
       "      <td>192</td>\n",
       "      <td>0</td>\n",
       "      <td>1</td>\n",
       "      <td>148</td>\n",
       "      <td>0</td>\n",
       "      <td>0.4</td>\n",
       "      <td>1</td>\n",
       "      <td>0</td>\n",
       "      <td>1</td>\n",
       "      <td>1</td>\n",
       "    </tr>\n",
       "    <tr>\n",
       "      <th>6</th>\n",
       "      <td>56</td>\n",
       "      <td>0</td>\n",
       "      <td>1</td>\n",
       "      <td>140</td>\n",
       "      <td>294</td>\n",
       "      <td>0</td>\n",
       "      <td>0</td>\n",
       "      <td>153</td>\n",
       "      <td>0</td>\n",
       "      <td>1.3</td>\n",
       "      <td>1</td>\n",
       "      <td>0</td>\n",
       "      <td>2</td>\n",
       "      <td>1</td>\n",
       "    </tr>\n",
       "    <tr>\n",
       "      <th>7</th>\n",
       "      <td>44</td>\n",
       "      <td>1</td>\n",
       "      <td>1</td>\n",
       "      <td>120</td>\n",
       "      <td>263</td>\n",
       "      <td>0</td>\n",
       "      <td>1</td>\n",
       "      <td>173</td>\n",
       "      <td>0</td>\n",
       "      <td>0.0</td>\n",
       "      <td>2</td>\n",
       "      <td>0</td>\n",
       "      <td>3</td>\n",
       "      <td>1</td>\n",
       "    </tr>\n",
       "    <tr>\n",
       "      <th>8</th>\n",
       "      <td>52</td>\n",
       "      <td>1</td>\n",
       "      <td>2</td>\n",
       "      <td>172</td>\n",
       "      <td>199</td>\n",
       "      <td>1</td>\n",
       "      <td>1</td>\n",
       "      <td>162</td>\n",
       "      <td>0</td>\n",
       "      <td>0.5</td>\n",
       "      <td>2</td>\n",
       "      <td>0</td>\n",
       "      <td>3</td>\n",
       "      <td>1</td>\n",
       "    </tr>\n",
       "    <tr>\n",
       "      <th>9</th>\n",
       "      <td>57</td>\n",
       "      <td>1</td>\n",
       "      <td>2</td>\n",
       "      <td>150</td>\n",
       "      <td>168</td>\n",
       "      <td>0</td>\n",
       "      <td>1</td>\n",
       "      <td>174</td>\n",
       "      <td>0</td>\n",
       "      <td>1.6</td>\n",
       "      <td>2</td>\n",
       "      <td>0</td>\n",
       "      <td>2</td>\n",
       "      <td>1</td>\n",
       "    </tr>\n",
       "  </tbody>\n",
       "</table>\n",
       "</div>"
      ],
      "text/plain": [
       "   age  sex  cp  trestbps  chol  fbs  restecg  thalach  exang  oldpeak  slope  \\\n",
       "0   63    1   3       145   233    1        0      150      0      2.3      0   \n",
       "1   37    1   2       130   250    0        1      187      0      3.5      0   \n",
       "2   41    0   1       130   204    0        0      172      0      1.4      2   \n",
       "3   56    1   1       120   236    0        1      178      0      0.8      2   \n",
       "4   57    0   0       120   354    0        1      163      1      0.6      2   \n",
       "5   57    1   0       140   192    0        1      148      0      0.4      1   \n",
       "6   56    0   1       140   294    0        0      153      0      1.3      1   \n",
       "7   44    1   1       120   263    0        1      173      0      0.0      2   \n",
       "8   52    1   2       172   199    1        1      162      0      0.5      2   \n",
       "9   57    1   2       150   168    0        1      174      0      1.6      2   \n",
       "\n",
       "   ca  thal  target  \n",
       "0   0     1       1  \n",
       "1   0     2       1  \n",
       "2   0     2       1  \n",
       "3   0     2       1  \n",
       "4   0     2       1  \n",
       "5   0     1       1  \n",
       "6   0     2       1  \n",
       "7   0     3       1  \n",
       "8   0     3       1  \n",
       "9   0     2       1  "
      ]
     },
     "execution_count": 5,
     "metadata": {},
     "output_type": "execute_result"
    }
   ],
   "source": [
    "df.head(10)"
   ]
  },
  {
   "cell_type": "code",
   "execution_count": 6,
   "id": "d870b5b9",
   "metadata": {
    "scrolled": false
   },
   "outputs": [
    {
     "data": {
      "text/html": [
       "<div>\n",
       "<style scoped>\n",
       "    .dataframe tbody tr th:only-of-type {\n",
       "        vertical-align: middle;\n",
       "    }\n",
       "\n",
       "    .dataframe tbody tr th {\n",
       "        vertical-align: top;\n",
       "    }\n",
       "\n",
       "    .dataframe thead th {\n",
       "        text-align: right;\n",
       "    }\n",
       "</style>\n",
       "<table border=\"1\" class=\"dataframe\">\n",
       "  <thead>\n",
       "    <tr style=\"text-align: right;\">\n",
       "      <th></th>\n",
       "      <th>age</th>\n",
       "      <th>sex</th>\n",
       "      <th>cp</th>\n",
       "      <th>trestbps</th>\n",
       "      <th>chol</th>\n",
       "      <th>fbs</th>\n",
       "      <th>restecg</th>\n",
       "      <th>thalach</th>\n",
       "      <th>exang</th>\n",
       "      <th>oldpeak</th>\n",
       "      <th>slope</th>\n",
       "      <th>ca</th>\n",
       "      <th>thal</th>\n",
       "      <th>target</th>\n",
       "    </tr>\n",
       "  </thead>\n",
       "  <tbody>\n",
       "    <tr>\n",
       "      <th>count</th>\n",
       "      <td>303.000000</td>\n",
       "      <td>303.000000</td>\n",
       "      <td>303.000000</td>\n",
       "      <td>303.000000</td>\n",
       "      <td>303.000000</td>\n",
       "      <td>303.000000</td>\n",
       "      <td>303.000000</td>\n",
       "      <td>303.000000</td>\n",
       "      <td>303.000000</td>\n",
       "      <td>303.000000</td>\n",
       "      <td>303.000000</td>\n",
       "      <td>303.000000</td>\n",
       "      <td>303.000000</td>\n",
       "      <td>303.000000</td>\n",
       "    </tr>\n",
       "    <tr>\n",
       "      <th>mean</th>\n",
       "      <td>54.366337</td>\n",
       "      <td>0.683168</td>\n",
       "      <td>0.966997</td>\n",
       "      <td>131.623762</td>\n",
       "      <td>246.264026</td>\n",
       "      <td>0.148515</td>\n",
       "      <td>0.528053</td>\n",
       "      <td>149.646865</td>\n",
       "      <td>0.326733</td>\n",
       "      <td>1.039604</td>\n",
       "      <td>1.399340</td>\n",
       "      <td>0.729373</td>\n",
       "      <td>2.313531</td>\n",
       "      <td>0.544554</td>\n",
       "    </tr>\n",
       "    <tr>\n",
       "      <th>std</th>\n",
       "      <td>9.082101</td>\n",
       "      <td>0.466011</td>\n",
       "      <td>1.032052</td>\n",
       "      <td>17.538143</td>\n",
       "      <td>51.830751</td>\n",
       "      <td>0.356198</td>\n",
       "      <td>0.525860</td>\n",
       "      <td>22.905161</td>\n",
       "      <td>0.469794</td>\n",
       "      <td>1.161075</td>\n",
       "      <td>0.616226</td>\n",
       "      <td>1.022606</td>\n",
       "      <td>0.612277</td>\n",
       "      <td>0.498835</td>\n",
       "    </tr>\n",
       "    <tr>\n",
       "      <th>min</th>\n",
       "      <td>29.000000</td>\n",
       "      <td>0.000000</td>\n",
       "      <td>0.000000</td>\n",
       "      <td>94.000000</td>\n",
       "      <td>126.000000</td>\n",
       "      <td>0.000000</td>\n",
       "      <td>0.000000</td>\n",
       "      <td>71.000000</td>\n",
       "      <td>0.000000</td>\n",
       "      <td>0.000000</td>\n",
       "      <td>0.000000</td>\n",
       "      <td>0.000000</td>\n",
       "      <td>0.000000</td>\n",
       "      <td>0.000000</td>\n",
       "    </tr>\n",
       "    <tr>\n",
       "      <th>25%</th>\n",
       "      <td>47.500000</td>\n",
       "      <td>0.000000</td>\n",
       "      <td>0.000000</td>\n",
       "      <td>120.000000</td>\n",
       "      <td>211.000000</td>\n",
       "      <td>0.000000</td>\n",
       "      <td>0.000000</td>\n",
       "      <td>133.500000</td>\n",
       "      <td>0.000000</td>\n",
       "      <td>0.000000</td>\n",
       "      <td>1.000000</td>\n",
       "      <td>0.000000</td>\n",
       "      <td>2.000000</td>\n",
       "      <td>0.000000</td>\n",
       "    </tr>\n",
       "    <tr>\n",
       "      <th>50%</th>\n",
       "      <td>55.000000</td>\n",
       "      <td>1.000000</td>\n",
       "      <td>1.000000</td>\n",
       "      <td>130.000000</td>\n",
       "      <td>240.000000</td>\n",
       "      <td>0.000000</td>\n",
       "      <td>1.000000</td>\n",
       "      <td>153.000000</td>\n",
       "      <td>0.000000</td>\n",
       "      <td>0.800000</td>\n",
       "      <td>1.000000</td>\n",
       "      <td>0.000000</td>\n",
       "      <td>2.000000</td>\n",
       "      <td>1.000000</td>\n",
       "    </tr>\n",
       "    <tr>\n",
       "      <th>75%</th>\n",
       "      <td>61.000000</td>\n",
       "      <td>1.000000</td>\n",
       "      <td>2.000000</td>\n",
       "      <td>140.000000</td>\n",
       "      <td>274.500000</td>\n",
       "      <td>0.000000</td>\n",
       "      <td>1.000000</td>\n",
       "      <td>166.000000</td>\n",
       "      <td>1.000000</td>\n",
       "      <td>1.600000</td>\n",
       "      <td>2.000000</td>\n",
       "      <td>1.000000</td>\n",
       "      <td>3.000000</td>\n",
       "      <td>1.000000</td>\n",
       "    </tr>\n",
       "    <tr>\n",
       "      <th>max</th>\n",
       "      <td>77.000000</td>\n",
       "      <td>1.000000</td>\n",
       "      <td>3.000000</td>\n",
       "      <td>200.000000</td>\n",
       "      <td>564.000000</td>\n",
       "      <td>1.000000</td>\n",
       "      <td>2.000000</td>\n",
       "      <td>202.000000</td>\n",
       "      <td>1.000000</td>\n",
       "      <td>6.200000</td>\n",
       "      <td>2.000000</td>\n",
       "      <td>4.000000</td>\n",
       "      <td>3.000000</td>\n",
       "      <td>1.000000</td>\n",
       "    </tr>\n",
       "  </tbody>\n",
       "</table>\n",
       "</div>"
      ],
      "text/plain": [
       "              age         sex          cp    trestbps        chol         fbs  \\\n",
       "count  303.000000  303.000000  303.000000  303.000000  303.000000  303.000000   \n",
       "mean    54.366337    0.683168    0.966997  131.623762  246.264026    0.148515   \n",
       "std      9.082101    0.466011    1.032052   17.538143   51.830751    0.356198   \n",
       "min     29.000000    0.000000    0.000000   94.000000  126.000000    0.000000   \n",
       "25%     47.500000    0.000000    0.000000  120.000000  211.000000    0.000000   \n",
       "50%     55.000000    1.000000    1.000000  130.000000  240.000000    0.000000   \n",
       "75%     61.000000    1.000000    2.000000  140.000000  274.500000    0.000000   \n",
       "max     77.000000    1.000000    3.000000  200.000000  564.000000    1.000000   \n",
       "\n",
       "          restecg     thalach       exang     oldpeak       slope          ca  \\\n",
       "count  303.000000  303.000000  303.000000  303.000000  303.000000  303.000000   \n",
       "mean     0.528053  149.646865    0.326733    1.039604    1.399340    0.729373   \n",
       "std      0.525860   22.905161    0.469794    1.161075    0.616226    1.022606   \n",
       "min      0.000000   71.000000    0.000000    0.000000    0.000000    0.000000   \n",
       "25%      0.000000  133.500000    0.000000    0.000000    1.000000    0.000000   \n",
       "50%      1.000000  153.000000    0.000000    0.800000    1.000000    0.000000   \n",
       "75%      1.000000  166.000000    1.000000    1.600000    2.000000    1.000000   \n",
       "max      2.000000  202.000000    1.000000    6.200000    2.000000    4.000000   \n",
       "\n",
       "             thal      target  \n",
       "count  303.000000  303.000000  \n",
       "mean     2.313531    0.544554  \n",
       "std      0.612277    0.498835  \n",
       "min      0.000000    0.000000  \n",
       "25%      2.000000    0.000000  \n",
       "50%      2.000000    1.000000  \n",
       "75%      3.000000    1.000000  \n",
       "max      3.000000    1.000000  "
      ]
     },
     "execution_count": 6,
     "metadata": {},
     "output_type": "execute_result"
    }
   ],
   "source": [
    "df.describe(include='all')"
   ]
  },
  {
   "cell_type": "code",
   "execution_count": 7,
   "id": "7ef50869",
   "metadata": {},
   "outputs": [
    {
     "data": {
      "text/plain": [
       "age           int64\n",
       "sex           int64\n",
       "cp            int64\n",
       "trestbps      int64\n",
       "chol          int64\n",
       "fbs           int64\n",
       "restecg       int64\n",
       "thalach       int64\n",
       "exang         int64\n",
       "oldpeak     float64\n",
       "slope         int64\n",
       "ca            int64\n",
       "thal          int64\n",
       "target        int64\n",
       "dtype: object"
      ]
     },
     "execution_count": 7,
     "metadata": {},
     "output_type": "execute_result"
    }
   ],
   "source": [
    "df.dtypes"
   ]
  },
  {
   "cell_type": "code",
   "execution_count": 8,
   "id": "df3df570",
   "metadata": {},
   "outputs": [
    {
     "data": {
      "text/plain": [
       "age          41\n",
       "sex           2\n",
       "cp            4\n",
       "trestbps     49\n",
       "chol        152\n",
       "fbs           2\n",
       "restecg       3\n",
       "thalach      91\n",
       "exang         2\n",
       "oldpeak      40\n",
       "slope         3\n",
       "ca            5\n",
       "thal          4\n",
       "target        2\n",
       "dtype: int64"
      ]
     },
     "execution_count": 8,
     "metadata": {},
     "output_type": "execute_result"
    }
   ],
   "source": [
    "df.nunique()"
   ]
  },
  {
   "cell_type": "code",
   "execution_count": 9,
   "id": "68662150",
   "metadata": {},
   "outputs": [
    {
     "data": {
      "text/plain": [
       "1    165\n",
       "0    138\n",
       "Name: target, dtype: int64"
      ]
     },
     "execution_count": 9,
     "metadata": {},
     "output_type": "execute_result"
    }
   ],
   "source": [
    "df['target'].value_counts()"
   ]
  },
  {
   "cell_type": "code",
   "execution_count": 94,
   "id": "fee5b2e9",
   "metadata": {},
   "outputs": [
    {
     "data": {
      "text/plain": [
       "1    52\n",
       "0    24\n",
       "Name: sex, dtype: int64"
      ]
     },
     "execution_count": 94,
     "metadata": {},
     "output_type": "execute_result"
    }
   ],
   "source": [
    "df['sex'].value_counts()"
   ]
  },
  {
   "cell_type": "code",
   "execution_count": 10,
   "id": "9f278420",
   "metadata": {},
   "outputs": [
    {
     "data": {
      "text/plain": [
       "target      1.000000\n",
       "cp          0.433798\n",
       "thalach     0.421741\n",
       "slope       0.345877\n",
       "restecg     0.137230\n",
       "fbs        -0.028046\n",
       "chol       -0.085239\n",
       "trestbps   -0.144931\n",
       "age        -0.225439\n",
       "sex        -0.280937\n",
       "thal       -0.344029\n",
       "ca         -0.391724\n",
       "oldpeak    -0.430696\n",
       "exang      -0.436757\n",
       "Name: target, dtype: float64"
      ]
     },
     "execution_count": 10,
     "metadata": {},
     "output_type": "execute_result"
    }
   ],
   "source": [
    "df.corr()['target'].sort_values(ascending=False)"
   ]
  },
  {
   "cell_type": "markdown",
   "id": "88a923aa",
   "metadata": {},
   "source": [
    "#### check for missing values"
   ]
  },
  {
   "cell_type": "code",
   "execution_count": 11,
   "id": "bd084f3f",
   "metadata": {},
   "outputs": [
    {
     "data": {
      "text/plain": [
       "age         False\n",
       "sex         False\n",
       "cp          False\n",
       "trestbps    False\n",
       "chol        False\n",
       "fbs         False\n",
       "restecg     False\n",
       "thalach     False\n",
       "exang       False\n",
       "oldpeak     False\n",
       "slope       False\n",
       "ca          False\n",
       "thal        False\n",
       "target      False\n",
       "dtype: bool"
      ]
     },
     "execution_count": 11,
     "metadata": {},
     "output_type": "execute_result"
    }
   ],
   "source": [
    "df.isnull().any()"
   ]
  },
  {
   "cell_type": "code",
   "execution_count": 12,
   "id": "d39e5a1f",
   "metadata": {},
   "outputs": [
    {
     "data": {
      "text/plain": [
       "False"
      ]
     },
     "execution_count": 12,
     "metadata": {},
     "output_type": "execute_result"
    }
   ],
   "source": [
    "df.isnull().values.any()"
   ]
  },
  {
   "cell_type": "markdown",
   "id": "dfda2526",
   "metadata": {},
   "source": [
    "### X,Y"
   ]
  },
  {
   "cell_type": "code",
   "execution_count": 13,
   "id": "9eb5acf7",
   "metadata": {},
   "outputs": [],
   "source": [
    "X=df.drop('target',axis=1)\n",
    "Y=df['target']"
   ]
  },
  {
   "cell_type": "markdown",
   "id": "bb666a92",
   "metadata": {},
   "source": [
    "# Feature Selection"
   ]
  },
  {
   "cell_type": "markdown",
   "id": "693f05bc",
   "metadata": {},
   "source": [
    "#### SelectKBest "
   ]
  },
  {
   "cell_type": "code",
   "execution_count": 14,
   "id": "2ca0821e",
   "metadata": {},
   "outputs": [
    {
     "name": "stdout",
     "output_type": "stream",
     "text": [
      "       Specs      Score\n",
      "8      exang  70.952438\n",
      "2         cp  69.772271\n",
      "9    oldpeak  68.551439\n",
      "7    thalach  65.120104\n",
      "11        ca  54.559834\n",
      "10     slope  40.902071\n",
      "12      thal  40.407696\n",
      "1        sex  25.792191\n",
      "0        age  16.116700\n",
      "3   trestbps   6.458169\n"
     ]
    }
   ],
   "source": [
    "#default version\n",
    "bestfeatures = SelectKBest()\n",
    "fit_skb2 = bestfeatures.fit(X,Y)\n",
    "dfscores = pd.DataFrame(fit_skb2.scores_)\n",
    "dfcolumns = pd.DataFrame(X.columns)\n",
    "#concat two dataframes for better visualization \n",
    "featureScores = pd.concat([dfcolumns,dfscores],axis=1)\n",
    "featureScores.columns = ['Specs','Score']  #naming the dataframe columns\n",
    "print(featureScores.nlargest(10,'Score'))  #print 10 best features"
   ]
  },
  {
   "cell_type": "code",
   "execution_count": 15,
   "id": "a2ec268d",
   "metadata": {},
   "outputs": [
    {
     "name": "stdout",
     "output_type": "stream",
     "text": [
      "       Specs       Score\n",
      "7    thalach  188.320472\n",
      "9    oldpeak   72.644253\n",
      "11        ca   66.440765\n",
      "2         cp   62.598098\n",
      "8      exang   38.914377\n",
      "4       chol   23.936394\n",
      "0        age   23.286624\n",
      "3   trestbps   14.823925\n",
      "10     slope    9.804095\n",
      "1        sex    7.576835\n"
     ]
    }
   ],
   "source": [
    "#chi2\n",
    "bestfeatures = SelectKBest(score_func=chi2, k=10)\n",
    "fit_skb1 = bestfeatures.fit(X,Y)\n",
    "dfscores = pd.DataFrame(fit_skb1.scores_)\n",
    "dfcolumns = pd.DataFrame(X.columns)\n",
    "featureScores = pd.concat([dfcolumns,dfscores],axis=1)     #concat two dataframes for better visualization \n",
    "featureScores.columns = ['Specs','Score']   #naming the dataframe columns\n",
    "print(featureScores.nlargest(10,'Score'))  #print 10 best features"
   ]
  },
  {
   "cell_type": "markdown",
   "id": "7334bb2c",
   "metadata": {},
   "source": [
    "#### RFE"
   ]
  },
  {
   "cell_type": "code",
   "execution_count": 16,
   "id": "225422f7",
   "metadata": {},
   "outputs": [
    {
     "name": "stdout",
     "output_type": "stream",
     "text": [
      "       Specs  Ranking\n",
      "0        age        1\n",
      "1        sex        1\n",
      "2         cp        1\n",
      "3   trestbps        1\n",
      "4       chol        1\n",
      "7    thalach        1\n",
      "9    oldpeak        1\n",
      "10     slope        1\n",
      "11        ca        1\n",
      "12      thal        1\n"
     ]
    }
   ],
   "source": [
    "rfe_selector = RFE(estimator=DecisionTreeClassifier(),n_features_to_select = 10, step = 1)\n",
    "fit_rfe1 = rfe_selector.fit(X,Y)\n",
    "dfscores = pd.DataFrame(fit_rfe1.ranking_)\n",
    "dfcolumns = pd.DataFrame(X.columns)\n",
    "#concat two dataframes for better visualization \n",
    "featureScores = pd.concat([dfcolumns,dfscores],axis=1)\n",
    "featureScores.columns = ['Specs','Ranking']  #naming the dataframe columns\n",
    "print(featureScores.nsmallest(10,'Ranking'))  #print 10 best features"
   ]
  },
  {
   "cell_type": "code",
   "execution_count": 17,
   "id": "188e05ab",
   "metadata": {},
   "outputs": [
    {
     "name": "stdout",
     "output_type": "stream",
     "text": [
      "      Specs  Ranking\n",
      "0       age        1\n",
      "1       sex        1\n",
      "2        cp        1\n",
      "5       fbs        1\n",
      "6   restecg        1\n",
      "8     exang        1\n",
      "9   oldpeak        1\n",
      "10    slope        1\n",
      "11       ca        1\n",
      "12     thal        1\n"
     ]
    },
    {
     "name": "stderr",
     "output_type": "stream",
     "text": [
      "C:\\Users\\user\\AppData\\Local\\Programs\\Python\\Python310\\lib\\site-packages\\sklearn\\svm\\_base.py:1225: ConvergenceWarning: Liblinear failed to converge, increase the number of iterations.\n",
      "  warnings.warn(\n",
      "C:\\Users\\user\\AppData\\Local\\Programs\\Python\\Python310\\lib\\site-packages\\sklearn\\svm\\_base.py:1225: ConvergenceWarning: Liblinear failed to converge, increase the number of iterations.\n",
      "  warnings.warn(\n",
      "C:\\Users\\user\\AppData\\Local\\Programs\\Python\\Python310\\lib\\site-packages\\sklearn\\svm\\_base.py:1225: ConvergenceWarning: Liblinear failed to converge, increase the number of iterations.\n",
      "  warnings.warn(\n",
      "C:\\Users\\user\\AppData\\Local\\Programs\\Python\\Python310\\lib\\site-packages\\sklearn\\svm\\_base.py:1225: ConvergenceWarning: Liblinear failed to converge, increase the number of iterations.\n",
      "  warnings.warn(\n"
     ]
    },
    {
     "data": {
      "text/html": [
       "<div>\n",
       "<style scoped>\n",
       "    .dataframe tbody tr th:only-of-type {\n",
       "        vertical-align: middle;\n",
       "    }\n",
       "\n",
       "    .dataframe tbody tr th {\n",
       "        vertical-align: top;\n",
       "    }\n",
       "\n",
       "    .dataframe thead th {\n",
       "        text-align: right;\n",
       "    }\n",
       "</style>\n",
       "<table border=\"1\" class=\"dataframe\">\n",
       "  <thead>\n",
       "    <tr style=\"text-align: right;\">\n",
       "      <th></th>\n",
       "      <th>Specs</th>\n",
       "      <th>Ranking</th>\n",
       "    </tr>\n",
       "  </thead>\n",
       "  <tbody>\n",
       "    <tr>\n",
       "      <th>0</th>\n",
       "      <td>age</td>\n",
       "      <td>1</td>\n",
       "    </tr>\n",
       "    <tr>\n",
       "      <th>1</th>\n",
       "      <td>sex</td>\n",
       "      <td>1</td>\n",
       "    </tr>\n",
       "    <tr>\n",
       "      <th>2</th>\n",
       "      <td>cp</td>\n",
       "      <td>1</td>\n",
       "    </tr>\n",
       "    <tr>\n",
       "      <th>3</th>\n",
       "      <td>trestbps</td>\n",
       "      <td>3</td>\n",
       "    </tr>\n",
       "    <tr>\n",
       "      <th>4</th>\n",
       "      <td>chol</td>\n",
       "      <td>4</td>\n",
       "    </tr>\n",
       "    <tr>\n",
       "      <th>5</th>\n",
       "      <td>fbs</td>\n",
       "      <td>1</td>\n",
       "    </tr>\n",
       "    <tr>\n",
       "      <th>6</th>\n",
       "      <td>restecg</td>\n",
       "      <td>1</td>\n",
       "    </tr>\n",
       "    <tr>\n",
       "      <th>7</th>\n",
       "      <td>thalach</td>\n",
       "      <td>2</td>\n",
       "    </tr>\n",
       "    <tr>\n",
       "      <th>8</th>\n",
       "      <td>exang</td>\n",
       "      <td>1</td>\n",
       "    </tr>\n",
       "    <tr>\n",
       "      <th>9</th>\n",
       "      <td>oldpeak</td>\n",
       "      <td>1</td>\n",
       "    </tr>\n",
       "    <tr>\n",
       "      <th>10</th>\n",
       "      <td>slope</td>\n",
       "      <td>1</td>\n",
       "    </tr>\n",
       "    <tr>\n",
       "      <th>11</th>\n",
       "      <td>ca</td>\n",
       "      <td>1</td>\n",
       "    </tr>\n",
       "    <tr>\n",
       "      <th>12</th>\n",
       "      <td>thal</td>\n",
       "      <td>1</td>\n",
       "    </tr>\n",
       "  </tbody>\n",
       "</table>\n",
       "</div>"
      ],
      "text/plain": [
       "       Specs  Ranking\n",
       "0        age        1\n",
       "1        sex        1\n",
       "2         cp        1\n",
       "3   trestbps        3\n",
       "4       chol        4\n",
       "5        fbs        1\n",
       "6    restecg        1\n",
       "7    thalach        2\n",
       "8      exang        1\n",
       "9    oldpeak        1\n",
       "10     slope        1\n",
       "11        ca        1\n",
       "12      thal        1"
      ]
     },
     "execution_count": 17,
     "metadata": {},
     "output_type": "execute_result"
    }
   ],
   "source": [
    "rfe_selector = RFE(estimator=LinearSVC(),n_features_to_select = 10, step = 1)\n",
    "fit_rfe2 = rfe_selector.fit(X,Y)\n",
    "dfscores = pd.DataFrame(fit_rfe2.ranking_)\n",
    "dfcolumns = pd.DataFrame(X.columns)\n",
    "#concat two dataframes for better visualization \n",
    "featureScores = pd.concat([dfcolumns,dfscores],axis=1)\n",
    "featureScores.columns = ['Specs','Ranking']  #naming the dataframe columns\n",
    "print(featureScores.nsmallest(10,'Ranking'))  #print 10 best features\n",
    "featureScores"
   ]
  },
  {
   "cell_type": "code",
   "execution_count": 18,
   "id": "00c342c0",
   "metadata": {},
   "outputs": [
    {
     "data": {
      "text/html": [
       "<div>\n",
       "<style scoped>\n",
       "    .dataframe tbody tr th:only-of-type {\n",
       "        vertical-align: middle;\n",
       "    }\n",
       "\n",
       "    .dataframe tbody tr th {\n",
       "        vertical-align: top;\n",
       "    }\n",
       "\n",
       "    .dataframe thead th {\n",
       "        text-align: right;\n",
       "    }\n",
       "</style>\n",
       "<table border=\"1\" class=\"dataframe\">\n",
       "  <thead>\n",
       "    <tr style=\"text-align: right;\">\n",
       "      <th></th>\n",
       "      <th>age</th>\n",
       "      <th>sex</th>\n",
       "      <th>cp</th>\n",
       "      <th>trestbps</th>\n",
       "      <th>chol</th>\n",
       "      <th>thalach</th>\n",
       "      <th>exang</th>\n",
       "      <th>oldpeak</th>\n",
       "      <th>ca</th>\n",
       "      <th>thal</th>\n",
       "    </tr>\n",
       "  </thead>\n",
       "  <tbody>\n",
       "    <tr>\n",
       "      <th>0</th>\n",
       "      <td>63</td>\n",
       "      <td>1</td>\n",
       "      <td>3</td>\n",
       "      <td>145</td>\n",
       "      <td>233</td>\n",
       "      <td>150</td>\n",
       "      <td>0</td>\n",
       "      <td>2.3</td>\n",
       "      <td>0</td>\n",
       "      <td>1</td>\n",
       "    </tr>\n",
       "    <tr>\n",
       "      <th>1</th>\n",
       "      <td>37</td>\n",
       "      <td>1</td>\n",
       "      <td>2</td>\n",
       "      <td>130</td>\n",
       "      <td>250</td>\n",
       "      <td>187</td>\n",
       "      <td>0</td>\n",
       "      <td>3.5</td>\n",
       "      <td>0</td>\n",
       "      <td>2</td>\n",
       "    </tr>\n",
       "    <tr>\n",
       "      <th>2</th>\n",
       "      <td>41</td>\n",
       "      <td>0</td>\n",
       "      <td>1</td>\n",
       "      <td>130</td>\n",
       "      <td>204</td>\n",
       "      <td>172</td>\n",
       "      <td>0</td>\n",
       "      <td>1.4</td>\n",
       "      <td>0</td>\n",
       "      <td>2</td>\n",
       "    </tr>\n",
       "    <tr>\n",
       "      <th>3</th>\n",
       "      <td>56</td>\n",
       "      <td>1</td>\n",
       "      <td>1</td>\n",
       "      <td>120</td>\n",
       "      <td>236</td>\n",
       "      <td>178</td>\n",
       "      <td>0</td>\n",
       "      <td>0.8</td>\n",
       "      <td>0</td>\n",
       "      <td>2</td>\n",
       "    </tr>\n",
       "    <tr>\n",
       "      <th>4</th>\n",
       "      <td>57</td>\n",
       "      <td>0</td>\n",
       "      <td>0</td>\n",
       "      <td>120</td>\n",
       "      <td>354</td>\n",
       "      <td>163</td>\n",
       "      <td>1</td>\n",
       "      <td>0.6</td>\n",
       "      <td>0</td>\n",
       "      <td>2</td>\n",
       "    </tr>\n",
       "    <tr>\n",
       "      <th>5</th>\n",
       "      <td>57</td>\n",
       "      <td>1</td>\n",
       "      <td>0</td>\n",
       "      <td>140</td>\n",
       "      <td>192</td>\n",
       "      <td>148</td>\n",
       "      <td>0</td>\n",
       "      <td>0.4</td>\n",
       "      <td>0</td>\n",
       "      <td>1</td>\n",
       "    </tr>\n",
       "    <tr>\n",
       "      <th>6</th>\n",
       "      <td>56</td>\n",
       "      <td>0</td>\n",
       "      <td>1</td>\n",
       "      <td>140</td>\n",
       "      <td>294</td>\n",
       "      <td>153</td>\n",
       "      <td>0</td>\n",
       "      <td>1.3</td>\n",
       "      <td>0</td>\n",
       "      <td>2</td>\n",
       "    </tr>\n",
       "    <tr>\n",
       "      <th>7</th>\n",
       "      <td>44</td>\n",
       "      <td>1</td>\n",
       "      <td>1</td>\n",
       "      <td>120</td>\n",
       "      <td>263</td>\n",
       "      <td>173</td>\n",
       "      <td>0</td>\n",
       "      <td>0.0</td>\n",
       "      <td>0</td>\n",
       "      <td>3</td>\n",
       "    </tr>\n",
       "    <tr>\n",
       "      <th>8</th>\n",
       "      <td>52</td>\n",
       "      <td>1</td>\n",
       "      <td>2</td>\n",
       "      <td>172</td>\n",
       "      <td>199</td>\n",
       "      <td>162</td>\n",
       "      <td>0</td>\n",
       "      <td>0.5</td>\n",
       "      <td>0</td>\n",
       "      <td>3</td>\n",
       "    </tr>\n",
       "    <tr>\n",
       "      <th>9</th>\n",
       "      <td>57</td>\n",
       "      <td>1</td>\n",
       "      <td>2</td>\n",
       "      <td>150</td>\n",
       "      <td>168</td>\n",
       "      <td>174</td>\n",
       "      <td>0</td>\n",
       "      <td>1.6</td>\n",
       "      <td>0</td>\n",
       "      <td>2</td>\n",
       "    </tr>\n",
       "  </tbody>\n",
       "</table>\n",
       "</div>"
      ],
      "text/plain": [
       "   age  sex  cp  trestbps  chol  thalach  exang  oldpeak  ca  thal\n",
       "0   63    1   3       145   233      150      0      2.3   0     1\n",
       "1   37    1   2       130   250      187      0      3.5   0     2\n",
       "2   41    0   1       130   204      172      0      1.4   0     2\n",
       "3   56    1   1       120   236      178      0      0.8   0     2\n",
       "4   57    0   0       120   354      163      1      0.6   0     2\n",
       "5   57    1   0       140   192      148      0      0.4   0     1\n",
       "6   56    0   1       140   294      153      0      1.3   0     2\n",
       "7   44    1   1       120   263      173      0      0.0   0     3\n",
       "8   52    1   2       172   199      162      0      0.5   0     3\n",
       "9   57    1   2       150   168      174      0      1.6   0     2"
      ]
     },
     "execution_count": 18,
     "metadata": {},
     "output_type": "execute_result"
    }
   ],
   "source": [
    "X_new=df[['age','sex','cp','trestbps','chol','thalach','exang','oldpeak','ca','thal']]\n",
    "X_new.head(10)"
   ]
  },
  {
   "cell_type": "markdown",
   "id": "26672612",
   "metadata": {},
   "source": [
    "# train test split"
   ]
  },
  {
   "cell_type": "code",
   "execution_count": 19,
   "id": "64581529",
   "metadata": {},
   "outputs": [],
   "source": [
    "X_train,X_test,Y_train,Y_test=train_test_split(X_new,Y,random_state=42,stratify=df['sex'])"
   ]
  },
  {
   "cell_type": "code",
   "execution_count": 20,
   "id": "201c11e0",
   "metadata": {},
   "outputs": [],
   "source": [
    "X_train2,X_test2,Y_train2,Y_test2=train_test_split(X_new,Y,random_state=42,stratify=df['sex'],test_size=0.2)"
   ]
  },
  {
   "cell_type": "code",
   "execution_count": 21,
   "id": "41f50659",
   "metadata": {},
   "outputs": [
    {
     "name": "stdout",
     "output_type": "stream",
     "text": [
      "gender:\n",
      " 0     96\n",
      "1    207\n",
      "Name: sex, dtype: int64\n",
      "\n",
      "Overall dataset: \n",
      "0    31.683168\n",
      "1    68.316832\n",
      "Name: sex, dtype: float64\n",
      "\n",
      "Random split: \n",
      "0    33.920705\n",
      "1    66.079295\n",
      "Name: sex, dtype: float64\n",
      "\n",
      "Startify split: \n",
      "0    31.718062\n",
      "1    68.281938\n",
      "Name: sex, dtype: float64\n"
     ]
    }
   ],
   "source": [
    "sex = df['sex'].value_counts().sort_index()\n",
    "#print('\\nAfter categorized:\\n{}'.format(sex))\n",
    "print('gender:\\n',sex)\n",
    "\n",
    "print('\\nOverall dataset: ')\n",
    "print(sex/len(df)*100)\n",
    "\n",
    "# random split\n",
    "random_trainX,random_trainY,random_testX,random_testY = train_test_split(X_new,Y,random_state=42)\n",
    "random_train_sex_count = random_trainX['sex'].value_counts().sort_index()\n",
    "print('\\nRandom split: ')\n",
    "print(random_train_sex_count/len(random_trainX)*100)\n",
    "\n",
    "# stratify split\n",
    "train_set_sex_count = X_train['sex'].value_counts().sort_index()\n",
    "print('\\nStartify split: ')\n",
    "print(train_set_sex_count/len(X_train)*100)"
   ]
  },
  {
   "cell_type": "code",
   "execution_count": 22,
   "id": "1b2edf1a",
   "metadata": {},
   "outputs": [
    {
     "name": "stdout",
     "output_type": "stream",
     "text": [
      "(227, 10) (227,)\n",
      "(242, 10) (242,)\n"
     ]
    }
   ],
   "source": [
    "print(X_train.shape,Y_train.shape)\n",
    "print(X_train2.shape,Y_train2.shape)"
   ]
  },
  {
   "cell_type": "markdown",
   "id": "f30b2e41",
   "metadata": {},
   "source": [
    "# Decision Tree"
   ]
  },
  {
   "cell_type": "markdown",
   "id": "12b758e0",
   "metadata": {},
   "source": [
    "### train,test set 1"
   ]
  },
  {
   "cell_type": "code",
   "execution_count": 23,
   "id": "02809866",
   "metadata": {},
   "outputs": [],
   "source": [
    "#normal model without hyperparameter\n",
    "dtc_normal= DecisionTreeClassifier()\n",
    "scores_dtc_normal=cross_val_score(dtc_normal,X_train,Y_train,cv=5)"
   ]
  },
  {
   "cell_type": "code",
   "execution_count": 24,
   "id": "173f5124",
   "metadata": {},
   "outputs": [],
   "source": [
    "#hyperparameters\n",
    "criterion=['gini','entropy']\n",
    "splitter=['best','random']\n",
    "max_depth=range(3,25,3)\n",
    "min_samples_leaf=range(10,101,10)"
   ]
  },
  {
   "cell_type": "code",
   "execution_count": 25,
   "id": "a131cf48",
   "metadata": {},
   "outputs": [],
   "source": [
    "#lists to store scores\n",
    "as_dt_cri=[]\n",
    "as_dt_split=[]\n",
    "as_dt_md=[]\n",
    "as_dt_msl=[]\n",
    "\n",
    "#map into models\n",
    "for c in criterion:\n",
    "    dtc_cri=DecisionTreeClassifier(random_state=0,criterion=c)\n",
    "    scores_c=cross_val_score(dtc_cri,X_train,Y_train,cv=5)\n",
    "    as_dt_cri.append(scores_c.mean())\n",
    "    \n",
    "for s in splitter:\n",
    "    dtc_spt=DecisionTreeClassifier(random_state=0,splitter=s)\n",
    "    scores_s=cross_val_score(dtc_spt,X_train,Y_train,cv=5)\n",
    "    as_dt_split.append(scores_s.mean())\n",
    "    \n",
    "for i in max_depth:\n",
    "    dtc_md=DecisionTreeClassifier(random_state=0,max_depth=i)\n",
    "    scores_md=cross_val_score(dtc_md,X_train,Y_train,cv=5)\n",
    "    as_dt_md.append(scores_md.mean())\n",
    "    \n",
    "for i in min_samples_leaf:\n",
    "    dtc_msl=DecisionTreeClassifier(random_state=0,min_samples_leaf=i)\n",
    "    scores_msl=cross_val_score(dtc_msl,X_train,Y_train,cv=5)\n",
    "    as_dt_msl.append(scores_msl.mean())"
   ]
  },
  {
   "cell_type": "code",
   "execution_count": 26,
   "id": "71d49196",
   "metadata": {},
   "outputs": [],
   "source": [
    "def makedict(lst1,lst2):\n",
    "    dct={lst1[i]:lst2[i] for i in range(0,len(lst1))}\n",
    "    return dct"
   ]
  },
  {
   "cell_type": "code",
   "execution_count": 27,
   "id": "1e8f7f87",
   "metadata": {},
   "outputs": [
    {
     "name": "stdout",
     "output_type": "stream",
     "text": [
      "\n",
      " score of default version DecisionTreeClassifier :  0.7357487922705314\n",
      "\n",
      " tuned hyperparameters: \n",
      "\n",
      " scores of criterion:\n",
      "{'entropy': 0.7534299516908213,\n",
      " 'gini': 0.740096618357488}\n",
      "\n",
      " scores of splitter:\n",
      "{'best': 0.740096618357488,\n",
      " 'random': 0.7667632850241546}\n",
      "\n",
      " scores of max_depth:\n",
      "{3: 0.7882125603864735,\n",
      " 6: 0.7311111111111112,\n",
      " 9: 0.740096618357488,\n",
      " 12: 0.740096618357488,\n",
      " 15: 0.740096618357488,\n",
      " 18: 0.740096618357488,\n",
      " 21: 0.740096618357488,\n",
      " 24: 0.740096618357488}\n",
      "\n",
      " scores of min_samples_leaf:\n",
      "{10: 0.8016425120772948,\n",
      " 20: 0.7623188405797101,\n",
      " 30: 0.7441545893719808,\n",
      " 40: 0.717487922705314,\n",
      " 50: 0.6956521739130435,\n",
      " 60: 0.6956521739130435,\n",
      " 70: 0.6956521739130435,\n",
      " 80: 0.7445410628019323,\n",
      " 90: 0.6829951690821257,\n",
      " 100: 0.546280193236715}\n"
     ]
    }
   ],
   "source": [
    "#take a look at all accuracy \n",
    "print('\\n score of default version DecisionTreeClassifier : ',scores_dtc_normal.mean())\n",
    "print('\\n tuned hyperparameters: ')\n",
    "print('\\n scores of criterion:')\n",
    "pprint(makedict(criterion,as_dt_cri),width=1)\n",
    "print('\\n scores of splitter:')\n",
    "pprint(makedict(splitter,as_dt_split),width=1)\n",
    "print('\\n scores of max_depth:')\n",
    "pprint(makedict(max_depth,as_dt_md),width=1)\n",
    "print('\\n scores of min_samples_leaf:')\n",
    "pprint(makedict(min_samples_leaf,as_dt_msl),width=1)"
   ]
  },
  {
   "cell_type": "code",
   "execution_count": 28,
   "id": "b6b05b7e",
   "metadata": {},
   "outputs": [
    {
     "data": {
      "text/plain": [
       "Text(0.5, 1.0, 'scores of min_samples_leaf')"
      ]
     },
     "execution_count": 28,
     "metadata": {},
     "output_type": "execute_result"
    },
    {
     "data": {
      "image/png": "[encoded data removed]",
      "text/plain": [
       "<Figure size 720x288 with 2 Axes>"
      ]
     },
     "metadata": {
      "needs_background": "light"
     },
     "output_type": "display_data"
    }
   ],
   "source": [
    "#plot graph\n",
    "dtfig= plt.figure(figsize=(10,4))\n",
    "\n",
    "ax11=dtfig.add_subplot(1,2,1)      #1st plot\n",
    "plt.plot(max_depth,as_dt_md)\n",
    "plt.xlabel('Value of max_depth')\n",
    "plt.ylabel('scores')\n",
    "plt.title('scores of max_depth')\n",
    "\n",
    "ax12=dtfig.add_subplot(1,2,2)     #2nd plot\n",
    "plt.plot(min_samples_leaf,as_dt_msl)\n",
    "plt.xlabel('Value of min_samples_leaf')\n",
    "plt.ylabel('scores')\n",
    "plt.title('scores of min_samples_leaf')"
   ]
  },
  {
   "cell_type": "code",
   "execution_count": 29,
   "id": "cef3d8c4",
   "metadata": {},
   "outputs": [
    {
     "name": "stdout",
     "output_type": "stream",
     "text": [
      "largest:\n",
      "criterion:  entropy\n",
      "splitter:  random\n",
      "max_depth:  3\n",
      "min_samples_leaf:  10\n"
     ]
    }
   ],
   "source": [
    "#print out largest score's \n",
    "print('largest:')\n",
    "print('criterion: ', criterion[ as_dt_cri.index(max(as_dt_cri))])\n",
    "print('splitter: ',splitter[ as_dt_split.index(max(as_dt_split))])\n",
    "print('max_depth: ',max_depth[ as_dt_md.index(max(as_dt_md))])\n",
    "print('min_samples_leaf: ',min_samples_leaf[ as_dt_msl.index(max(as_dt_msl))])"
   ]
  },
  {
   "cell_type": "code",
   "execution_count": 30,
   "id": "d7afedaf",
   "metadata": {},
   "outputs": [
    {
     "name": "stdout",
     "output_type": "stream",
     "text": [
      "Training time: 0.00599980354309082\n"
     ]
    },
    {
     "data": {
      "text/html": [
       "<style>#sk-container-id-1 {color: black;background-color: white;}#sk-container-id-1 pre{padding: 0;}#sk-container-id-1 div.sk-toggleable {background-color: white;}#sk-container-id-1 label.sk-toggleable__label {cursor: pointer;display: block;width: 100%;margin-bottom: 0;padding: 0.3em;box-sizing: border-box;text-align: center;}#sk-container-id-1 label.sk-toggleable__label-arrow:before {content: \"▸\";float: left;margin-right: 0.25em;color: #696969;}#sk-container-id-1 label.sk-toggleable__label-arrow:hover:before {color: black;}#sk-container-id-1 div.sk-estimator:hover label.sk-toggleable__label-arrow:before {color: black;}#sk-container-id-1 div.sk-toggleable__content {max-height: 0;max-width: 0;overflow: hidden;text-align: left;background-color: #f0f8ff;}#sk-container-id-1 div.sk-toggleable__content pre {margin: 0.2em;color: black;border-radius: 0.25em;background-color: #f0f8ff;}#sk-container-id-1 input.sk-toggleable__control:checked~div.sk-toggleable__content {max-height: 200px;max-width: 100%;overflow: auto;}#sk-container-id-1 input.sk-toggleable__control:checked~label.sk-toggleable__label-arrow:before {content: \"▾\";}#sk-container-id-1 div.sk-estimator input.sk-toggleable__control:checked~label.sk-toggleable__label {background-color: #d4ebff;}#sk-container-id-1 div.sk-label input.sk-toggleable__control:checked~label.sk-toggleable__label {background-color: #d4ebff;}#sk-container-id-1 input.sk-hidden--visually {border: 0;clip: rect(1px 1px 1px 1px);clip: rect(1px, 1px, 1px, 1px);height: 1px;margin: -1px;overflow: hidden;padding: 0;position: absolute;width: 1px;}#sk-container-id-1 div.sk-estimator {font-family: monospace;background-color: #f0f8ff;border: 1px dotted black;border-radius: 0.25em;box-sizing: border-box;margin-bottom: 0.5em;}#sk-container-id-1 div.sk-estimator:hover {background-color: #d4ebff;}#sk-container-id-1 div.sk-parallel-item::after {content: \"\";width: 100%;border-bottom: 1px solid gray;flex-grow: 1;}#sk-container-id-1 div.sk-label:hover label.sk-toggleable__label {background-color: #d4ebff;}#sk-container-id-1 div.sk-serial::before {content: \"\";position: absolute;border-left: 1px solid gray;box-sizing: border-box;top: 0;bottom: 0;left: 50%;z-index: 0;}#sk-container-id-1 div.sk-serial {display: flex;flex-direction: column;align-items: center;background-color: white;padding-right: 0.2em;padding-left: 0.2em;position: relative;}#sk-container-id-1 div.sk-item {position: relative;z-index: 1;}#sk-container-id-1 div.sk-parallel {display: flex;align-items: stretch;justify-content: center;background-color: white;position: relative;}#sk-container-id-1 div.sk-item::before, #sk-container-id-1 div.sk-parallel-item::before {content: \"\";position: absolute;border-left: 1px solid gray;box-sizing: border-box;top: 0;bottom: 0;left: 50%;z-index: -1;}#sk-container-id-1 div.sk-parallel-item {display: flex;flex-direction: column;z-index: 1;position: relative;background-color: white;}#sk-container-id-1 div.sk-parallel-item:first-child::after {align-self: flex-end;width: 50%;}#sk-container-id-1 div.sk-parallel-item:last-child::after {align-self: flex-start;width: 50%;}#sk-container-id-1 div.sk-parallel-item:only-child::after {width: 0;}#sk-container-id-1 div.sk-dashed-wrapped {border: 1px dashed gray;margin: 0 0.4em 0.5em 0.4em;box-sizing: border-box;padding-bottom: 0.4em;background-color: white;}#sk-container-id-1 div.sk-label label {font-family: monospace;font-weight: bold;display: inline-block;line-height: 1.2em;}#sk-container-id-1 div.sk-label-container {text-align: center;}#sk-container-id-1 div.sk-container {/* jupyter's `normalize.less` sets `[hidden] { display: none; }` but bootstrap.min.css set `[hidden] { display: none !important; }` so we also need the `!important` here to be able to override the default hidden behavior on the sphinx rendered scikit-learn.org. See: https://github.com/scikit-learn/scikit-learn/issues/21755 */display: inline-block !important;position: relative;}#sk-container-id-1 div.sk-text-repr-fallback {display: none;}</style><div id=\"sk-container-id-1\" class=\"sk-top-container\"><div class=\"sk-text-repr-fallback\"><pre>DecisionTreeClassifier(criterion=&#x27;entropy&#x27;, max_depth=3, min_samples_leaf=10,\n",
       "                       random_state=0, splitter=&#x27;random&#x27;)</pre><b>In a Jupyter environment, please rerun this cell to show the HTML representation or trust the notebook. <br />On GitHub, the HTML representation is unable to render, please try loading this page with nbviewer.org.</b></div><div class=\"sk-container\" hidden><div class=\"sk-item\"><div class=\"sk-estimator sk-toggleable\"><input class=\"sk-toggleable__control sk-hidden--visually\" id=\"sk-estimator-id-1\" type=\"checkbox\" checked><label for=\"sk-estimator-id-1\" class=\"sk-toggleable__label sk-toggleable__label-arrow\">DecisionTreeClassifier</label><div class=\"sk-toggleable__content\"><pre>DecisionTreeClassifier(criterion=&#x27;entropy&#x27;, max_depth=3, min_samples_leaf=10,\n",
       "                       random_state=0, splitter=&#x27;random&#x27;)</pre></div></div></div></div></div>"
      ],
      "text/plain": [
       "DecisionTreeClassifier(criterion='entropy', max_depth=3, min_samples_leaf=10,\n",
       "                       random_state=0, splitter='random')"
      ]
     },
     "execution_count": 30,
     "metadata": {},
     "output_type": "execute_result"
    }
   ],
   "source": [
    "dtc= DecisionTreeClassifier(criterion='entropy',splitter='random',max_depth=3,min_samples_leaf=10,random_state=0)\n",
    "t_dtc = time.time()  #start timer\n",
    "dtc=dtc.fit(X_train,Y_train)\n",
    "print(\"Training time:\", (time.time())-t_dtc)  #stop timer\n",
    "dtc"
   ]
  },
  {
   "cell_type": "code",
   "execution_count": 31,
   "id": "0587e8ae",
   "metadata": {},
   "outputs": [
    {
     "name": "stdout",
     "output_type": "stream",
     "text": [
      "CPU times: total: 0 ns\n",
      "Wall time: 11 ms\n"
     ]
    }
   ],
   "source": [
    "%%time\n",
    "dtc= DecisionTreeClassifier(criterion='entropy',splitter='random',max_depth=3,min_samples_leaf=10,random_state=0)\n",
    "dtc=dtc.fit(X_train,Y_train)\n",
    "Y_pred_dtc=dtc.predict(X_test)"
   ]
  },
  {
   "cell_type": "code",
   "execution_count": 32,
   "id": "31638692",
   "metadata": {},
   "outputs": [
    {
     "name": "stdout",
     "output_type": "stream",
     "text": [
      "[1 1 1 0 1 1 1 1 1 1 1 0 0 1 1 1 0 1 0 0 1 1 1 1 1 0 1 0 0 1 1 1 0 1 1 0 1\n",
      " 0 1 1 0 0 0 0 0 1 1 0 1 1 1 1 1 1 1 0 0 1 1 0 1 1 0 0 0 1 1 1 0 1 0 1 1 0\n",
      " 1 1]\n"
     ]
    }
   ],
   "source": [
    "print(Y_pred_dtc)"
   ]
  },
  {
   "cell_type": "markdown",
   "id": "2fccb3a5",
   "metadata": {},
   "source": [
    "### train, test set 2"
   ]
  },
  {
   "cell_type": "code",
   "execution_count": 33,
   "id": "079cd845",
   "metadata": {},
   "outputs": [],
   "source": [
    "#normal model without hyperparameter\n",
    "scores_dtc_normal2=cross_val_score(dtc_normal,X_train2,Y_train2,cv=5)"
   ]
  },
  {
   "cell_type": "code",
   "execution_count": 34,
   "id": "096b31b5",
   "metadata": {},
   "outputs": [],
   "source": [
    "#lists to store scores\n",
    "as_dt_cri2=[]\n",
    "as_dt_split2=[]\n",
    "as_dt_md2=[]\n",
    "as_dt_msl2=[]\n",
    "\n",
    "#map into models\n",
    "for c in criterion:\n",
    "    dtc_cri=DecisionTreeClassifier(random_state=0,criterion=c)\n",
    "    scores_c2=cross_val_score(dtc_cri,X_train2,Y_train2,cv=5)\n",
    "    as_dt_cri2.append(scores_c2.mean())\n",
    "    \n",
    "for s in splitter:\n",
    "    dtc_spt=DecisionTreeClassifier(random_state=0,splitter=s)\n",
    "    scores_s2=cross_val_score(dtc_spt,X_train2,Y_train2,cv=5)\n",
    "    as_dt_split2.append(scores_s2.mean())\n",
    "    \n",
    "for i in max_depth:\n",
    "    dtc_md=DecisionTreeClassifier(random_state=0,max_depth=i)\n",
    "    scores_md2=cross_val_score(dtc_md,X_train2,Y_train2,cv=5)\n",
    "    as_dt_md2.append(scores_md2.mean())\n",
    "    \n",
    "for i in min_samples_leaf:\n",
    "    dtc_msl=DecisionTreeClassifier(random_state=0,min_samples_leaf=i)\n",
    "    scores_msl2=cross_val_score(dtc_msl,X_train2,Y_train2,cv=5)\n",
    "    as_dt_msl2.append(scores_msl2.mean())"
   ]
  },
  {
   "cell_type": "code",
   "execution_count": 35,
   "id": "37286448",
   "metadata": {},
   "outputs": [
    {
     "name": "stdout",
     "output_type": "stream",
     "text": [
      "\n",
      " score of default version DecisionTreeClassifier :  0.7563775510204082\n",
      "\n",
      " tuned hyperparameters: \n",
      "\n",
      " scores of criterion:\n",
      "{'entropy': 0.7726190476190476,\n",
      " 'gini': 0.7851190476190475}\n",
      "\n",
      " scores of splitter:\n",
      "{'best': 0.7851190476190475,\n",
      " 'random': 0.7314625850340135}\n",
      "\n",
      " scores of max_depth:\n",
      "{3: 0.7852891156462586,\n",
      " 6: 0.7646258503401361,\n",
      " 9: 0.7728741496598639,\n",
      " 12: 0.7851190476190475,\n",
      " 15: 0.7851190476190475,\n",
      " 18: 0.7851190476190475,\n",
      " 21: 0.7851190476190475,\n",
      " 24: 0.7851190476190475}\n",
      "\n",
      " scores of min_samples_leaf:\n",
      "{10: 0.8062925170068027,\n",
      " 20: 0.7607993197278912,\n",
      " 30: 0.752295918367347,\n",
      " 40: 0.752295918367347,\n",
      " 50: 0.7277210884353742,\n",
      " 60: 0.7277210884353742,\n",
      " 70: 0.7522108843537414,\n",
      " 80: 0.7522108843537414,\n",
      " 90: 0.7030612244897958,\n",
      " 100: 0.5537414965986394}\n"
     ]
    }
   ],
   "source": [
    "#take a look at all accuracy \n",
    "print('\\n score of default version DecisionTreeClassifier : ',scores_dtc_normal2.mean())\n",
    "print('\\n tuned hyperparameters: ')\n",
    "print('\\n scores of criterion:')\n",
    "pprint(makedict(criterion,as_dt_cri2),width=1)\n",
    "print('\\n scores of splitter:')\n",
    "pprint(makedict(splitter,as_dt_split2),width=1)\n",
    "print('\\n scores of max_depth:')\n",
    "pprint(makedict(max_depth,as_dt_md2),width=1)\n",
    "print('\\n scores of min_samples_leaf:')\n",
    "pprint(makedict(min_samples_leaf,as_dt_msl2),width=1)"
   ]
  },
  {
   "cell_type": "code",
   "execution_count": 36,
   "id": "feebe704",
   "metadata": {},
   "outputs": [
    {
     "data": {
      "text/plain": [
       "Text(0.5, 1.0, 'scores of min_samples_leaf')"
      ]
     },
     "execution_count": 36,
     "metadata": {},
     "output_type": "execute_result"
    },
    {
     "data": {
      "image/png": "[encoded data removed]",
      "text/plain": [
       "<Figure size 720x288 with 2 Axes>"
      ]
     },
     "metadata": {
      "needs_background": "light"
     },
     "output_type": "display_data"
    }
   ],
   "source": [
    "#plot graph\n",
    "dtfig2= plt.figure(figsize=(10,4))\n",
    "\n",
    "ax21=dtfig2.add_subplot(1,2,1)      #1st plot\n",
    "plt.plot(max_depth,as_dt_md2)\n",
    "plt.xlabel('Value of max_depth')\n",
    "plt.ylabel(' scores of max_depth')\n",
    "plt.title('scores of max_depth')\n",
    "\n",
    "ax22=dtfig2.add_subplot(1,2,2)     #2nd plot\n",
    "plt.plot(min_samples_leaf,as_dt_msl2)\n",
    "plt.xlabel('Value of min_samples_leaf')\n",
    "plt.ylabel('scores')\n",
    "plt.title('scores of min_samples_leaf')"
   ]
  },
  {
   "cell_type": "code",
   "execution_count": 37,
   "id": "113b8463",
   "metadata": {},
   "outputs": [
    {
     "name": "stdout",
     "output_type": "stream",
     "text": [
      "largest:\n",
      "criterion:  gini\n",
      "splitter:  best\n",
      "max_depth:  3\n",
      "min_samples_leaf:  10\n"
     ]
    }
   ],
   "source": [
    "#print out largest score's \n",
    "print('largest:')\n",
    "print('criterion: ', criterion[ as_dt_cri2.index(max(as_dt_cri2))])\n",
    "print('splitter: ',splitter[ as_dt_split2.index(max(as_dt_split2))])\n",
    "print('max_depth: ',max_depth[ as_dt_md2.index(max(as_dt_md2))])\n",
    "print('min_samples_leaf: ',min_samples_leaf[ as_dt_msl2.index(max(as_dt_msl2))])"
   ]
  },
  {
   "cell_type": "code",
   "execution_count": 38,
   "id": "d8d90c17",
   "metadata": {},
   "outputs": [],
   "source": [
    "#fit model"
   ]
  },
  {
   "cell_type": "code",
   "execution_count": 39,
   "id": "cd06c25f",
   "metadata": {},
   "outputs": [
    {
     "name": "stdout",
     "output_type": "stream",
     "text": [
      "Training time: 0.006991386413574219\n"
     ]
    },
    {
     "data": {
      "text/html": [
       "<style>#sk-container-id-2 {color: black;background-color: white;}#sk-container-id-2 pre{padding: 0;}#sk-container-id-2 div.sk-toggleable {background-color: white;}#sk-container-id-2 label.sk-toggleable__label {cursor: pointer;display: block;width: 100%;margin-bottom: 0;padding: 0.3em;box-sizing: border-box;text-align: center;}#sk-container-id-2 label.sk-toggleable__label-arrow:before {content: \"▸\";float: left;margin-right: 0.25em;color: #696969;}#sk-container-id-2 label.sk-toggleable__label-arrow:hover:before {color: black;}#sk-container-id-2 div.sk-estimator:hover label.sk-toggleable__label-arrow:before {color: black;}#sk-container-id-2 div.sk-toggleable__content {max-height: 0;max-width: 0;overflow: hidden;text-align: left;background-color: #f0f8ff;}#sk-container-id-2 div.sk-toggleable__content pre {margin: 0.2em;color: black;border-radius: 0.25em;background-color: #f0f8ff;}#sk-container-id-2 input.sk-toggleable__control:checked~div.sk-toggleable__content {max-height: 200px;max-width: 100%;overflow: auto;}#sk-container-id-2 input.sk-toggleable__control:checked~label.sk-toggleable__label-arrow:before {content: \"▾\";}#sk-container-id-2 div.sk-estimator input.sk-toggleable__control:checked~label.sk-toggleable__label {background-color: #d4ebff;}#sk-container-id-2 div.sk-label input.sk-toggleable__control:checked~label.sk-toggleable__label {background-color: #d4ebff;}#sk-container-id-2 input.sk-hidden--visually {border: 0;clip: rect(1px 1px 1px 1px);clip: rect(1px, 1px, 1px, 1px);height: 1px;margin: -1px;overflow: hidden;padding: 0;position: absolute;width: 1px;}#sk-container-id-2 div.sk-estimator {font-family: monospace;background-color: #f0f8ff;border: 1px dotted black;border-radius: 0.25em;box-sizing: border-box;margin-bottom: 0.5em;}#sk-container-id-2 div.sk-estimator:hover {background-color: #d4ebff;}#sk-container-id-2 div.sk-parallel-item::after {content: \"\";width: 100%;border-bottom: 1px solid gray;flex-grow: 1;}#sk-container-id-2 div.sk-label:hover label.sk-toggleable__label {background-color: #d4ebff;}#sk-container-id-2 div.sk-serial::before {content: \"\";position: absolute;border-left: 1px solid gray;box-sizing: border-box;top: 0;bottom: 0;left: 50%;z-index: 0;}#sk-container-id-2 div.sk-serial {display: flex;flex-direction: column;align-items: center;background-color: white;padding-right: 0.2em;padding-left: 0.2em;position: relative;}#sk-container-id-2 div.sk-item {position: relative;z-index: 1;}#sk-container-id-2 div.sk-parallel {display: flex;align-items: stretch;justify-content: center;background-color: white;position: relative;}#sk-container-id-2 div.sk-item::before, #sk-container-id-2 div.sk-parallel-item::before {content: \"\";position: absolute;border-left: 1px solid gray;box-sizing: border-box;top: 0;bottom: 0;left: 50%;z-index: -1;}#sk-container-id-2 div.sk-parallel-item {display: flex;flex-direction: column;z-index: 1;position: relative;background-color: white;}#sk-container-id-2 div.sk-parallel-item:first-child::after {align-self: flex-end;width: 50%;}#sk-container-id-2 div.sk-parallel-item:last-child::after {align-self: flex-start;width: 50%;}#sk-container-id-2 div.sk-parallel-item:only-child::after {width: 0;}#sk-container-id-2 div.sk-dashed-wrapped {border: 1px dashed gray;margin: 0 0.4em 0.5em 0.4em;box-sizing: border-box;padding-bottom: 0.4em;background-color: white;}#sk-container-id-2 div.sk-label label {font-family: monospace;font-weight: bold;display: inline-block;line-height: 1.2em;}#sk-container-id-2 div.sk-label-container {text-align: center;}#sk-container-id-2 div.sk-container {/* jupyter's `normalize.less` sets `[hidden] { display: none; }` but bootstrap.min.css set `[hidden] { display: none !important; }` so we also need the `!important` here to be able to override the default hidden behavior on the sphinx rendered scikit-learn.org. See: https://github.com/scikit-learn/scikit-learn/issues/21755 */display: inline-block !important;position: relative;}#sk-container-id-2 div.sk-text-repr-fallback {display: none;}</style><div id=\"sk-container-id-2\" class=\"sk-top-container\"><div class=\"sk-text-repr-fallback\"><pre>DecisionTreeClassifier(max_depth=3, min_samples_leaf=10, random_state=0)</pre><b>In a Jupyter environment, please rerun this cell to show the HTML representation or trust the notebook. <br />On GitHub, the HTML representation is unable to render, please try loading this page with nbviewer.org.</b></div><div class=\"sk-container\" hidden><div class=\"sk-item\"><div class=\"sk-estimator sk-toggleable\"><input class=\"sk-toggleable__control sk-hidden--visually\" id=\"sk-estimator-id-2\" type=\"checkbox\" checked><label for=\"sk-estimator-id-2\" class=\"sk-toggleable__label sk-toggleable__label-arrow\">DecisionTreeClassifier</label><div class=\"sk-toggleable__content\"><pre>DecisionTreeClassifier(max_depth=3, min_samples_leaf=10, random_state=0)</pre></div></div></div></div></div>"
      ],
      "text/plain": [
       "DecisionTreeClassifier(max_depth=3, min_samples_leaf=10, random_state=0)"
      ]
     },
     "execution_count": 39,
     "metadata": {},
     "output_type": "execute_result"
    }
   ],
   "source": [
    "dtc2= DecisionTreeClassifier(criterion='gini',splitter='best',max_depth=3,min_samples_leaf=10,random_state=0)\n",
    "t_dtc2 = time.time()  #start timer\n",
    "dtc2=dtc2.fit(X_train2,Y_train2)\n",
    "print(\"Training time:\", (time.time())-t_dtc2)  #stop timer\n",
    "dtc2"
   ]
  },
  {
   "cell_type": "code",
   "execution_count": 40,
   "id": "5442c82c",
   "metadata": {},
   "outputs": [
    {
     "name": "stdout",
     "output_type": "stream",
     "text": [
      "CPU times: total: 31.2 ms\n",
      "Wall time: 9.98 ms\n"
     ]
    }
   ],
   "source": [
    "%%time\n",
    "dtc2= DecisionTreeClassifier(criterion='entropy',splitter='random',max_depth=3,min_samples_leaf=10,random_state=0)\n",
    "dtc2=dtc2.fit(X_train2,Y_train2)\n",
    "Y_pred_dtc2=dtc2.predict(X_test2)"
   ]
  },
  {
   "cell_type": "code",
   "execution_count": 41,
   "id": "00f99cd5",
   "metadata": {},
   "outputs": [
    {
     "name": "stdout",
     "output_type": "stream",
     "text": [
      "[1 1 0 1 0 0 1 1 1 1 0 0 0 1 0 1 1 1 0 1 1 0 0 1 0 1 1 1 1 1 0 1 0 1 1 1 0\n",
      " 1 0 1 1 1 1 0 1 0 1 1 0 1 0 1 0 1 0 1 0 0 1 1 1]\n"
     ]
    }
   ],
   "source": [
    "print(Y_pred_dtc2)"
   ]
  },
  {
   "cell_type": "markdown",
   "id": "89479192",
   "metadata": {},
   "source": [
    "# Naive Bayes"
   ]
  },
  {
   "cell_type": "markdown",
   "id": "7592e1cc",
   "metadata": {},
   "source": [
    "### train test set 1"
   ]
  },
  {
   "cell_type": "code",
   "execution_count": 42,
   "id": "e5f9e542",
   "metadata": {},
   "outputs": [],
   "source": [
    "#original GaussianNb model\n",
    "gnb_normal= GaussianNB()\n",
    "scores_gnb=cross_val_score(gnb_normal,X_train,Y_train,cv=5)\n",
    "as_gnb=scores_gnb.mean()"
   ]
  },
  {
   "cell_type": "code",
   "execution_count": 43,
   "id": "fdcc2ade",
   "metadata": {},
   "outputs": [
    {
     "name": "stdout",
     "output_type": "stream",
     "text": [
      "[1.00000000e+00 5.99484250e-03 3.59381366e-05 2.15443469e-07\n",
      " 1.29154967e-09 7.74263683e-12 4.64158883e-14 2.78255940e-16\n",
      " 1.66810054e-18 1.00000000e-20]\n"
     ]
    }
   ],
   "source": [
    "print(np.logspace(0,-20, num=10))"
   ]
  },
  {
   "cell_type": "code",
   "execution_count": 44,
   "id": "9b23d60b",
   "metadata": {},
   "outputs": [],
   "source": [
    "var_smoothing=np.logspace(0,-20, num=10)\n",
    "as_gnb_vs=[]\n",
    "\n",
    "for v in var_smoothing:\n",
    "    gnb_vs=GaussianNB(var_smoothing=v)\n",
    "    scores_gnb_vs=cross_val_score(gnb_vs,X_train,Y_train,cv=5)\n",
    "    as_gnb_vs.append(scores_gnb_vs.mean())"
   ]
  },
  {
   "cell_type": "code",
   "execution_count": 45,
   "id": "f51afbe7",
   "metadata": {},
   "outputs": [],
   "source": [
    "#original MultinomialNB model\n",
    "mnb_normal= MultinomialNB()\n",
    "scores_mnb=cross_val_score(gnb_vs,X_train,Y_train,cv=5)\n",
    "as_mnb=scores_mnb.mean()"
   ]
  },
  {
   "cell_type": "code",
   "execution_count": 46,
   "id": "3fe78245",
   "metadata": {},
   "outputs": [
    {
     "name": "stderr",
     "output_type": "stream",
     "text": [
      "C:\\Users\\user\\AppData\\Local\\Programs\\Python\\Python310\\lib\\site-packages\\sklearn\\naive_bayes.py:591: UserWarning: alpha too small will result in numeric errors, setting alpha = 1.0e-10\n",
      "  warnings.warn(\n",
      "C:\\Users\\user\\AppData\\Local\\Programs\\Python\\Python310\\lib\\site-packages\\sklearn\\naive_bayes.py:591: UserWarning: alpha too small will result in numeric errors, setting alpha = 1.0e-10\n",
      "  warnings.warn(\n",
      "C:\\Users\\user\\AppData\\Local\\Programs\\Python\\Python310\\lib\\site-packages\\sklearn\\naive_bayes.py:591: UserWarning: alpha too small will result in numeric errors, setting alpha = 1.0e-10\n",
      "  warnings.warn(\n",
      "C:\\Users\\user\\AppData\\Local\\Programs\\Python\\Python310\\lib\\site-packages\\sklearn\\naive_bayes.py:591: UserWarning: alpha too small will result in numeric errors, setting alpha = 1.0e-10\n",
      "  warnings.warn(\n",
      "C:\\Users\\user\\AppData\\Local\\Programs\\Python\\Python310\\lib\\site-packages\\sklearn\\naive_bayes.py:591: UserWarning: alpha too small will result in numeric errors, setting alpha = 1.0e-10\n",
      "  warnings.warn(\n"
     ]
    }
   ],
   "source": [
    "#alpha=range(0,6)\n",
    "alpha=range(0,1000,100)\n",
    "as_mnb_al=[]\n",
    "\n",
    "for a in alpha:\n",
    "    mnb_al=MultinomialNB(alpha=a)\n",
    "    scores_mnb_al=cross_val_score(mnb_al,X_train,Y_train,cv=5)\n",
    "    as_mnb_al.append(scores_mnb_al.mean())"
   ]
  },
  {
   "cell_type": "code",
   "execution_count": 47,
   "id": "59d67a6b",
   "metadata": {},
   "outputs": [
    {
     "name": "stdout",
     "output_type": "stream",
     "text": [
      "\n",
      " GaussianNB:  0.8066666666666666\n",
      "\n",
      " GaussianNB: var_smoothing: \n",
      "{1e-20: 0.8066666666666666,\n",
      " 1.6681005372000558e-18: 0.8066666666666666,\n",
      " 2.7825594022071145e-16: 0.8066666666666666,\n",
      " 4.6415888336127726e-14: 0.8066666666666666,\n",
      " 7.742636826811278e-12: 0.8066666666666666,\n",
      " 1.2915496650148826e-09: 0.8066666666666666,\n",
      " 2.1544346900318822e-07: 0.8066666666666666,\n",
      " 3.5938136638046256e-05: 0.8022222222222222,\n",
      " 0.005994842503189409: 0.6788405797101449,\n",
      " 1.0: 0.65256038647343}\n",
      "\n",
      " MultinomialNB:  0.8066666666666666\n",
      "\n",
      " MultinomialNB: alpha: \n",
      "{0: 0.7493719806763284,\n",
      " 100: 0.7010628019323673,\n",
      " 200: 0.6743961352657004,\n",
      " 300: 0.6611594202898552,\n",
      " 400: 0.6478260869565217,\n",
      " 500: 0.6082125603864734,\n",
      " 600: 0.5946859903381643,\n",
      " 700: 0.5771014492753623,\n",
      " 800: 0.5595169082125604,\n",
      " 900: 0.5507246376811594}\n"
     ]
    }
   ],
   "source": [
    "#print scores\n",
    "print('\\n GaussianNB: ',as_gnb)\n",
    "\n",
    "print('\\n GaussianNB: var_smoothing: ')\n",
    "pprint(makedict(var_smoothing,as_gnb_vs),width=1)\n",
    "    \n",
    "print('\\n MultinomialNB: ',as_mnb)\n",
    "\n",
    "print('\\n MultinomialNB: alpha: ')\n",
    "pprint(makedict(alpha,as_mnb_al),width=1)"
   ]
  },
  {
   "cell_type": "code",
   "execution_count": 48,
   "id": "c4f8562d",
   "metadata": {},
   "outputs": [
    {
     "data": {
      "text/plain": [
       "Text(0.5, 1.0, 'scores of alpha')"
      ]
     },
     "execution_count": 48,
     "metadata": {},
     "output_type": "execute_result"
    },
    {
     "data": {
      "image/png": "[encoded data removed]",
      "text/plain": [
       "<Figure size 720x288 with 2 Axes>"
      ]
     },
     "metadata": {
      "needs_background": "light"
     },
     "output_type": "display_data"
    }
   ],
   "source": [
    "#plot graph\n",
    "gnbfig= plt.figure(figsize=(10,4))\n",
    "\n",
    "gnbax11=gnbfig.add_subplot(1,2,1)      #1st plot\n",
    "plt.plot(var_smoothing,as_gnb_vs)\n",
    "plt.xlabel('Value of var_smoothing')\n",
    "plt.ylabel(' var_smoothing')\n",
    "plt.title('scores of var_smoothing')\n",
    "\n",
    "gnbax12=gnbfig.add_subplot(1,2,2)     #2nd plot\n",
    "plt.plot(alpha,as_mnb_al)\n",
    "plt.xlabel('Value of alpha')\n",
    "plt.ylabel(' scores')\n",
    "plt.title('scores of alpha')"
   ]
  },
  {
   "cell_type": "code",
   "execution_count": 49,
   "id": "ee9ae3c7",
   "metadata": {},
   "outputs": [
    {
     "name": "stdout",
     "output_type": "stream",
     "text": [
      "largest:\n",
      "GaussianNB: var_smoothing:  2.1544346900318822e-07\n"
     ]
    }
   ],
   "source": [
    "#print out largest accuracy\n",
    "print('largest:')\n",
    "print('GaussianNB: var_smoothing: ',var_smoothing[ as_gnb_vs.index(max(as_gnb_vs))])"
   ]
  },
  {
   "cell_type": "code",
   "execution_count": 50,
   "id": "07cae741",
   "metadata": {},
   "outputs": [
    {
     "name": "stdout",
     "output_type": "stream",
     "text": [
      "Training time: 0.003997325897216797\n"
     ]
    },
    {
     "data": {
      "text/html": [
       "<style>#sk-container-id-3 {color: black;background-color: white;}#sk-container-id-3 pre{padding: 0;}#sk-container-id-3 div.sk-toggleable {background-color: white;}#sk-container-id-3 label.sk-toggleable__label {cursor: pointer;display: block;width: 100%;margin-bottom: 0;padding: 0.3em;box-sizing: border-box;text-align: center;}#sk-container-id-3 label.sk-toggleable__label-arrow:before {content: \"▸\";float: left;margin-right: 0.25em;color: #696969;}#sk-container-id-3 label.sk-toggleable__label-arrow:hover:before {color: black;}#sk-container-id-3 div.sk-estimator:hover label.sk-toggleable__label-arrow:before {color: black;}#sk-container-id-3 div.sk-toggleable__content {max-height: 0;max-width: 0;overflow: hidden;text-align: left;background-color: #f0f8ff;}#sk-container-id-3 div.sk-toggleable__content pre {margin: 0.2em;color: black;border-radius: 0.25em;background-color: #f0f8ff;}#sk-container-id-3 input.sk-toggleable__control:checked~div.sk-toggleable__content {max-height: 200px;max-width: 100%;overflow: auto;}#sk-container-id-3 input.sk-toggleable__control:checked~label.sk-toggleable__label-arrow:before {content: \"▾\";}#sk-container-id-3 div.sk-estimator input.sk-toggleable__control:checked~label.sk-toggleable__label {background-color: #d4ebff;}#sk-container-id-3 div.sk-label input.sk-toggleable__control:checked~label.sk-toggleable__label {background-color: #d4ebff;}#sk-container-id-3 input.sk-hidden--visually {border: 0;clip: rect(1px 1px 1px 1px);clip: rect(1px, 1px, 1px, 1px);height: 1px;margin: -1px;overflow: hidden;padding: 0;position: absolute;width: 1px;}#sk-container-id-3 div.sk-estimator {font-family: monospace;background-color: #f0f8ff;border: 1px dotted black;border-radius: 0.25em;box-sizing: border-box;margin-bottom: 0.5em;}#sk-container-id-3 div.sk-estimator:hover {background-color: #d4ebff;}#sk-container-id-3 div.sk-parallel-item::after {content: \"\";width: 100%;border-bottom: 1px solid gray;flex-grow: 1;}#sk-container-id-3 div.sk-label:hover label.sk-toggleable__label {background-color: #d4ebff;}#sk-container-id-3 div.sk-serial::before {content: \"\";position: absolute;border-left: 1px solid gray;box-sizing: border-box;top: 0;bottom: 0;left: 50%;z-index: 0;}#sk-container-id-3 div.sk-serial {display: flex;flex-direction: column;align-items: center;background-color: white;padding-right: 0.2em;padding-left: 0.2em;position: relative;}#sk-container-id-3 div.sk-item {position: relative;z-index: 1;}#sk-container-id-3 div.sk-parallel {display: flex;align-items: stretch;justify-content: center;background-color: white;position: relative;}#sk-container-id-3 div.sk-item::before, #sk-container-id-3 div.sk-parallel-item::before {content: \"\";position: absolute;border-left: 1px solid gray;box-sizing: border-box;top: 0;bottom: 0;left: 50%;z-index: -1;}#sk-container-id-3 div.sk-parallel-item {display: flex;flex-direction: column;z-index: 1;position: relative;background-color: white;}#sk-container-id-3 div.sk-parallel-item:first-child::after {align-self: flex-end;width: 50%;}#sk-container-id-3 div.sk-parallel-item:last-child::after {align-self: flex-start;width: 50%;}#sk-container-id-3 div.sk-parallel-item:only-child::after {width: 0;}#sk-container-id-3 div.sk-dashed-wrapped {border: 1px dashed gray;margin: 0 0.4em 0.5em 0.4em;box-sizing: border-box;padding-bottom: 0.4em;background-color: white;}#sk-container-id-3 div.sk-label label {font-family: monospace;font-weight: bold;display: inline-block;line-height: 1.2em;}#sk-container-id-3 div.sk-label-container {text-align: center;}#sk-container-id-3 div.sk-container {/* jupyter's `normalize.less` sets `[hidden] { display: none; }` but bootstrap.min.css set `[hidden] { display: none !important; }` so we also need the `!important` here to be able to override the default hidden behavior on the sphinx rendered scikit-learn.org. See: https://github.com/scikit-learn/scikit-learn/issues/21755 */display: inline-block !important;position: relative;}#sk-container-id-3 div.sk-text-repr-fallback {display: none;}</style><div id=\"sk-container-id-3\" class=\"sk-top-container\"><div class=\"sk-text-repr-fallback\"><pre>GaussianNB(var_smoothing=2.1544346900318822e-07)</pre><b>In a Jupyter environment, please rerun this cell to show the HTML representation or trust the notebook. <br />On GitHub, the HTML representation is unable to render, please try loading this page with nbviewer.org.</b></div><div class=\"sk-container\" hidden><div class=\"sk-item\"><div class=\"sk-estimator sk-toggleable\"><input class=\"sk-toggleable__control sk-hidden--visually\" id=\"sk-estimator-id-3\" type=\"checkbox\" checked><label for=\"sk-estimator-id-3\" class=\"sk-toggleable__label sk-toggleable__label-arrow\">GaussianNB</label><div class=\"sk-toggleable__content\"><pre>GaussianNB(var_smoothing=2.1544346900318822e-07)</pre></div></div></div></div></div>"
      ],
      "text/plain": [
       "GaussianNB(var_smoothing=2.1544346900318822e-07)"
      ]
     },
     "execution_count": 50,
     "metadata": {},
     "output_type": "execute_result"
    }
   ],
   "source": [
    "#fit model\n",
    "gnb=GaussianNB(var_smoothing=2.1544346900318822e-07)\n",
    "t_gnb = time.time()  #start timer\n",
    "gnb=gnb.fit(X_train,Y_train)\n",
    "print(\"Training time:\", (time.time())-t_gnb)  #stop timer\n",
    "gnb"
   ]
  },
  {
   "cell_type": "code",
   "execution_count": 51,
   "id": "827aaaeb",
   "metadata": {},
   "outputs": [
    {
     "name": "stdout",
     "output_type": "stream",
     "text": [
      "CPU times: total: 0 ns\n",
      "Wall time: 10 ms\n"
     ]
    }
   ],
   "source": [
    "%%time\n",
    "gnb=GaussianNB(var_smoothing=2.1544346900318822e-07)\n",
    "gnb=gnb.fit(X_train,Y_train)\n",
    "Y_pred_gnb=gnb.predict(X_test)"
   ]
  },
  {
   "cell_type": "code",
   "execution_count": 52,
   "id": "db355740",
   "metadata": {},
   "outputs": [
    {
     "name": "stdout",
     "output_type": "stream",
     "text": [
      "[1 1 1 0 1 0 1 1 1 1 1 1 0 1 1 1 0 1 0 0 1 1 0 1 1 1 1 1 0 0 0 1 0 1 1 0 1\n",
      " 0 1 1 0 0 1 0 0 1 1 0 1 1 1 1 1 1 1 0 0 1 0 1 1 1 0 0 0 1 1 1 0 1 0 1 1 0\n",
      " 1 1]\n"
     ]
    }
   ],
   "source": [
    "print(Y_pred_gnb)"
   ]
  },
  {
   "cell_type": "markdown",
   "id": "dfb42a73",
   "metadata": {},
   "source": [
    "### train, test set 2"
   ]
  },
  {
   "cell_type": "code",
   "execution_count": 53,
   "id": "58c1ea48",
   "metadata": {},
   "outputs": [],
   "source": [
    "#original GaussianNb model\n",
    "gnb_normal= GaussianNB()\n",
    "scores_gnb2=cross_val_score(gnb_normal,X_train2,Y_train2,cv=5)\n",
    "as_gnb2=scores_gnb2.mean()"
   ]
  },
  {
   "cell_type": "code",
   "execution_count": 54,
   "id": "5c83e449",
   "metadata": {},
   "outputs": [],
   "source": [
    "as_gnb_vs2=[]\n",
    "\n",
    "for v in var_smoothing:\n",
    "    gnb_vs=GaussianNB(var_smoothing=v)\n",
    "    scores_gnb_vs2=cross_val_score(gnb_vs,X_train2,Y_train2,cv=5)\n",
    "    as_gnb_vs2.append(scores_gnb_vs2.mean())"
   ]
  },
  {
   "cell_type": "code",
   "execution_count": 55,
   "id": "f07c5143",
   "metadata": {},
   "outputs": [],
   "source": [
    "#original MultinomialNB model\n",
    "scores_mnb2=cross_val_score(gnb_vs,X_train2,Y_train2,cv=5)\n",
    "as_mnb2=scores_mnb2.mean()"
   ]
  },
  {
   "cell_type": "code",
   "execution_count": 56,
   "id": "7e05580b",
   "metadata": {},
   "outputs": [
    {
     "name": "stderr",
     "output_type": "stream",
     "text": [
      "C:\\Users\\user\\AppData\\Local\\Programs\\Python\\Python310\\lib\\site-packages\\sklearn\\naive_bayes.py:591: UserWarning: alpha too small will result in numeric errors, setting alpha = 1.0e-10\n",
      "  warnings.warn(\n",
      "C:\\Users\\user\\AppData\\Local\\Programs\\Python\\Python310\\lib\\site-packages\\sklearn\\naive_bayes.py:591: UserWarning: alpha too small will result in numeric errors, setting alpha = 1.0e-10\n",
      "  warnings.warn(\n",
      "C:\\Users\\user\\AppData\\Local\\Programs\\Python\\Python310\\lib\\site-packages\\sklearn\\naive_bayes.py:591: UserWarning: alpha too small will result in numeric errors, setting alpha = 1.0e-10\n",
      "  warnings.warn(\n",
      "C:\\Users\\user\\AppData\\Local\\Programs\\Python\\Python310\\lib\\site-packages\\sklearn\\naive_bayes.py:591: UserWarning: alpha too small will result in numeric errors, setting alpha = 1.0e-10\n",
      "  warnings.warn(\n",
      "C:\\Users\\user\\AppData\\Local\\Programs\\Python\\Python310\\lib\\site-packages\\sklearn\\naive_bayes.py:591: UserWarning: alpha too small will result in numeric errors, setting alpha = 1.0e-10\n",
      "  warnings.warn(\n"
     ]
    }
   ],
   "source": [
    "as_mnb_al2=[]\n",
    "\n",
    "for a in alpha:\n",
    "    mnb_al=MultinomialNB(alpha=a)\n",
    "    scores_mnb_al2=cross_val_score(mnb_al,X_train2,Y_train2,cv=5)\n",
    "    as_mnb_al2.append(scores_mnb_al2.mean())"
   ]
  },
  {
   "cell_type": "code",
   "execution_count": 57,
   "id": "911f420c",
   "metadata": {},
   "outputs": [
    {
     "name": "stdout",
     "output_type": "stream",
     "text": [
      "\n",
      " GaussianNB:  0.8143707482993197\n",
      "\n",
      " GaussianNB: var_smoothing: \n",
      "{1e-20: 0.8143707482993197,\n",
      " 1.6681005372000558e-18: 0.8143707482993197,\n",
      " 2.7825594022071145e-16: 0.8143707482993197,\n",
      " 4.6415888336127726e-14: 0.8143707482993197,\n",
      " 7.742636826811278e-12: 0.8143707482993197,\n",
      " 1.2915496650148826e-09: 0.8143707482993197,\n",
      " 2.1544346900318822e-07: 0.8143707482993197,\n",
      " 3.5938136638046256e-05: 0.826530612244898,\n",
      " 0.005994842503189409: 0.6899659863945578,\n",
      " 1.0: 0.6197278911564627}\n",
      "\n",
      " MultinomialNB:  0.8143707482993197\n",
      "\n",
      " MultinomialNB: alpha: \n",
      "{0: 0.7479591836734694,\n",
      " 100: 0.7110544217687075,\n",
      " 200: 0.6819727891156463,\n",
      " 300: 0.6529761904761904,\n",
      " 400: 0.6364795918367347,\n",
      " 500: 0.6034013605442177,\n",
      " 600: 0.5868197278911566,\n",
      " 700: 0.5661564625850339,\n",
      " 800: 0.5619897959183674,\n",
      " 900: 0.5579081632653061}\n"
     ]
    }
   ],
   "source": [
    "#print scores\n",
    "print('\\n GaussianNB: ',as_gnb2)\n",
    "\n",
    "print('\\n GaussianNB: var_smoothing: ')\n",
    "pprint(makedict(var_smoothing,as_gnb_vs2),width=1)\n",
    "    \n",
    "print('\\n MultinomialNB: ',as_mnb2)\n",
    "\n",
    "print('\\n MultinomialNB: alpha: ')\n",
    "pprint(makedict(alpha,as_mnb_al2),width=1)"
   ]
  },
  {
   "cell_type": "code",
   "execution_count": 58,
   "id": "b677cb8f",
   "metadata": {},
   "outputs": [
    {
     "data": {
      "text/plain": [
       "Text(0.5, 1.0, 'scores of alpha')"
      ]
     },
     "execution_count": 58,
     "metadata": {},
     "output_type": "execute_result"
    },
    {
     "data": {
      "image/png": "[encoded data removed]",
      "text/plain": [
       "<Figure size 720x288 with 2 Axes>"
      ]
     },
     "metadata": {
      "needs_background": "light"
     },
     "output_type": "display_data"
    }
   ],
   "source": [
    "#plot graph\n",
    "gnbfig2= plt.figure(figsize=(10,4))\n",
    "\n",
    "gnbax21=gnbfig2.add_subplot(1,2,1)      #1st plot\n",
    "plt.plot(var_smoothing,as_gnb_vs2)\n",
    "plt.xlabel('Value of var_smoothing')\n",
    "plt.ylabel(' var_smoothing')\n",
    "plt.title('scores of var_smoothing')\n",
    "\n",
    "gnbax22=gnbfig2.add_subplot(1,2,2)     #2nd plot\n",
    "plt.plot(alpha,as_mnb_al2)\n",
    "plt.xlabel('Value of alpha')\n",
    "plt.ylabel(' scores')\n",
    "plt.title('scores of alpha')"
   ]
  },
  {
   "cell_type": "code",
   "execution_count": 59,
   "id": "d24f4896",
   "metadata": {},
   "outputs": [
    {
     "name": "stdout",
     "output_type": "stream",
     "text": [
      "largest:\n",
      "GaussianNB: var_smoothing:  3.5938136638046256e-05\n"
     ]
    }
   ],
   "source": [
    "#print out largest accuracy\n",
    "print('largest:')\n",
    "print('GaussianNB: var_smoothing: ',var_smoothing[ as_gnb_vs2.index(max(as_gnb_vs2))])"
   ]
  },
  {
   "cell_type": "code",
   "execution_count": 60,
   "id": "8a596ce8",
   "metadata": {},
   "outputs": [
    {
     "name": "stdout",
     "output_type": "stream",
     "text": [
      "Training time: 0.007002353668212891\n"
     ]
    },
    {
     "data": {
      "text/html": [
       "<style>#sk-container-id-4 {color: black;background-color: white;}#sk-container-id-4 pre{padding: 0;}#sk-container-id-4 div.sk-toggleable {background-color: white;}#sk-container-id-4 label.sk-toggleable__label {cursor: pointer;display: block;width: 100%;margin-bottom: 0;padding: 0.3em;box-sizing: border-box;text-align: center;}#sk-container-id-4 label.sk-toggleable__label-arrow:before {content: \"▸\";float: left;margin-right: 0.25em;color: #696969;}#sk-container-id-4 label.sk-toggleable__label-arrow:hover:before {color: black;}#sk-container-id-4 div.sk-estimator:hover label.sk-toggleable__label-arrow:before {color: black;}#sk-container-id-4 div.sk-toggleable__content {max-height: 0;max-width: 0;overflow: hidden;text-align: left;background-color: #f0f8ff;}#sk-container-id-4 div.sk-toggleable__content pre {margin: 0.2em;color: black;border-radius: 0.25em;background-color: #f0f8ff;}#sk-container-id-4 input.sk-toggleable__control:checked~div.sk-toggleable__content {max-height: 200px;max-width: 100%;overflow: auto;}#sk-container-id-4 input.sk-toggleable__control:checked~label.sk-toggleable__label-arrow:before {content: \"▾\";}#sk-container-id-4 div.sk-estimator input.sk-toggleable__control:checked~label.sk-toggleable__label {background-color: #d4ebff;}#sk-container-id-4 div.sk-label input.sk-toggleable__control:checked~label.sk-toggleable__label {background-color: #d4ebff;}#sk-container-id-4 input.sk-hidden--visually {border: 0;clip: rect(1px 1px 1px 1px);clip: rect(1px, 1px, 1px, 1px);height: 1px;margin: -1px;overflow: hidden;padding: 0;position: absolute;width: 1px;}#sk-container-id-4 div.sk-estimator {font-family: monospace;background-color: #f0f8ff;border: 1px dotted black;border-radius: 0.25em;box-sizing: border-box;margin-bottom: 0.5em;}#sk-container-id-4 div.sk-estimator:hover {background-color: #d4ebff;}#sk-container-id-4 div.sk-parallel-item::after {content: \"\";width: 100%;border-bottom: 1px solid gray;flex-grow: 1;}#sk-container-id-4 div.sk-label:hover label.sk-toggleable__label {background-color: #d4ebff;}#sk-container-id-4 div.sk-serial::before {content: \"\";position: absolute;border-left: 1px solid gray;box-sizing: border-box;top: 0;bottom: 0;left: 50%;z-index: 0;}#sk-container-id-4 div.sk-serial {display: flex;flex-direction: column;align-items: center;background-color: white;padding-right: 0.2em;padding-left: 0.2em;position: relative;}#sk-container-id-4 div.sk-item {position: relative;z-index: 1;}#sk-container-id-4 div.sk-parallel {display: flex;align-items: stretch;justify-content: center;background-color: white;position: relative;}#sk-container-id-4 div.sk-item::before, #sk-container-id-4 div.sk-parallel-item::before {content: \"\";position: absolute;border-left: 1px solid gray;box-sizing: border-box;top: 0;bottom: 0;left: 50%;z-index: -1;}#sk-container-id-4 div.sk-parallel-item {display: flex;flex-direction: column;z-index: 1;position: relative;background-color: white;}#sk-container-id-4 div.sk-parallel-item:first-child::after {align-self: flex-end;width: 50%;}#sk-container-id-4 div.sk-parallel-item:last-child::after {align-self: flex-start;width: 50%;}#sk-container-id-4 div.sk-parallel-item:only-child::after {width: 0;}#sk-container-id-4 div.sk-dashed-wrapped {border: 1px dashed gray;margin: 0 0.4em 0.5em 0.4em;box-sizing: border-box;padding-bottom: 0.4em;background-color: white;}#sk-container-id-4 div.sk-label label {font-family: monospace;font-weight: bold;display: inline-block;line-height: 1.2em;}#sk-container-id-4 div.sk-label-container {text-align: center;}#sk-container-id-4 div.sk-container {/* jupyter's `normalize.less` sets `[hidden] { display: none; }` but bootstrap.min.css set `[hidden] { display: none !important; }` so we also need the `!important` here to be able to override the default hidden behavior on the sphinx rendered scikit-learn.org. See: https://github.com/scikit-learn/scikit-learn/issues/21755 */display: inline-block !important;position: relative;}#sk-container-id-4 div.sk-text-repr-fallback {display: none;}</style><div id=\"sk-container-id-4\" class=\"sk-top-container\"><div class=\"sk-text-repr-fallback\"><pre>GaussianNB(var_smoothing=3.5938136638046256e-05)</pre><b>In a Jupyter environment, please rerun this cell to show the HTML representation or trust the notebook. <br />On GitHub, the HTML representation is unable to render, please try loading this page with nbviewer.org.</b></div><div class=\"sk-container\" hidden><div class=\"sk-item\"><div class=\"sk-estimator sk-toggleable\"><input class=\"sk-toggleable__control sk-hidden--visually\" id=\"sk-estimator-id-4\" type=\"checkbox\" checked><label for=\"sk-estimator-id-4\" class=\"sk-toggleable__label sk-toggleable__label-arrow\">GaussianNB</label><div class=\"sk-toggleable__content\"><pre>GaussianNB(var_smoothing=3.5938136638046256e-05)</pre></div></div></div></div></div>"
      ],
      "text/plain": [
       "GaussianNB(var_smoothing=3.5938136638046256e-05)"
      ]
     },
     "execution_count": 60,
     "metadata": {},
     "output_type": "execute_result"
    }
   ],
   "source": [
    "#fit model\n",
    "gnb2=GaussianNB(var_smoothing=3.5938136638046256e-05)\n",
    "t_gnb2 = time.time()  #start timer\n",
    "gnb2=gnb2.fit(X_train2,Y_train2)\n",
    "print(\"Training time:\", (time.time())-t_gnb2)  #stop timer\n",
    "gnb2"
   ]
  },
  {
   "cell_type": "code",
   "execution_count": 61,
   "id": "49370a3a",
   "metadata": {},
   "outputs": [
    {
     "name": "stdout",
     "output_type": "stream",
     "text": [
      "CPU times: total: 15.6 ms\n",
      "Wall time: 12 ms\n"
     ]
    }
   ],
   "source": [
    "%%time\n",
    "gnb2=GaussianNB(var_smoothing=3.5938136638046256e-05)\n",
    "gnb2=gnb2.fit(X_train2,Y_train2)\n",
    "Y_pred_gnb2=gnb2.predict(X_test2)"
   ]
  },
  {
   "cell_type": "code",
   "execution_count": 62,
   "id": "f0fffaa6",
   "metadata": {},
   "outputs": [
    {
     "name": "stdout",
     "output_type": "stream",
     "text": [
      "[1 1 1 1 0 0 1 1 1 0 0 0 0 1 0 1 1 1 0 1 1 0 0 1 1 0 1 1 1 1 0 1 0 1 1 1 1\n",
      " 1 0 1 1 1 1 0 1 0 1 0 0 1 0 1 0 1 0 0 0 0 1 1 0]\n"
     ]
    }
   ],
   "source": [
    "print(Y_pred_gnb2)"
   ]
  },
  {
   "cell_type": "markdown",
   "id": "cc6b6dcb",
   "metadata": {},
   "source": [
    "# Support Vector Machine"
   ]
  },
  {
   "cell_type": "code",
   "execution_count": 63,
   "id": "97791bda",
   "metadata": {},
   "outputs": [],
   "source": [
    "from sklearn.svm import LinearSVC,SVC\n",
    "from sklearn.preprocessing import StandardScaler"
   ]
  },
  {
   "cell_type": "markdown",
   "id": "b442eeff",
   "metadata": {},
   "source": [
    "### train test set 1"
   ]
  },
  {
   "cell_type": "code",
   "execution_count": 64,
   "id": "c0a9dfc4",
   "metadata": {},
   "outputs": [
    {
     "name": "stderr",
     "output_type": "stream",
     "text": [
      "C:\\Users\\user\\AppData\\Local\\Programs\\Python\\Python310\\lib\\site-packages\\sklearn\\svm\\_base.py:1225: ConvergenceWarning: Liblinear failed to converge, increase the number of iterations.\n",
      "  warnings.warn(\n",
      "C:\\Users\\user\\AppData\\Local\\Programs\\Python\\Python310\\lib\\site-packages\\sklearn\\svm\\_base.py:1225: ConvergenceWarning: Liblinear failed to converge, increase the number of iterations.\n",
      "  warnings.warn(\n",
      "C:\\Users\\user\\AppData\\Local\\Programs\\Python\\Python310\\lib\\site-packages\\sklearn\\svm\\_base.py:1225: ConvergenceWarning: Liblinear failed to converge, increase the number of iterations.\n",
      "  warnings.warn(\n",
      "C:\\Users\\user\\AppData\\Local\\Programs\\Python\\Python310\\lib\\site-packages\\sklearn\\svm\\_base.py:1225: ConvergenceWarning: Liblinear failed to converge, increase the number of iterations.\n",
      "  warnings.warn(\n",
      "C:\\Users\\user\\AppData\\Local\\Programs\\Python\\Python310\\lib\\site-packages\\sklearn\\svm\\_base.py:1225: ConvergenceWarning: Liblinear failed to converge, increase the number of iterations.\n",
      "  warnings.warn(\n"
     ]
    }
   ],
   "source": [
    "lsvc=LinearSVC()\n",
    "scores_lsvc=cross_val_score(lsvc,X_train,Y_train,cv=5)\n",
    "as_lsvc=scores_lsvc.mean()"
   ]
  },
  {
   "cell_type": "code",
   "execution_count": 65,
   "id": "ab1e3981",
   "metadata": {},
   "outputs": [],
   "source": [
    "svc=SVC()\n",
    "scores_svc=cross_val_score(svc,X_train,Y_train,cv=5)\n",
    "as_svc=scores_svc.mean()"
   ]
  },
  {
   "cell_type": "code",
   "execution_count": 66,
   "id": "eea27e62",
   "metadata": {},
   "outputs": [],
   "source": [
    "c=[]\n",
    "gamma=[]\n",
    "c_value=0.001\n",
    "for i in range(0,5):\n",
    "    c_value=c_value*10       #generate c value by multiply of 10\n",
    "    c.append(c_value)\n",
    "    gamma.append(c_value)\n",
    "kernel=['linear', 'sigmoid','rbf']\n",
    "deg=range(4,7)"
   ]
  },
  {
   "cell_type": "code",
   "execution_count": 67,
   "id": "c71cf081",
   "metadata": {},
   "outputs": [],
   "source": [
    "as_svc_c=[]\n",
    "as_svc_g=[]\n",
    "as_svc_k=[]\n",
    "as_svc_d=[]\n",
    "\n",
    "for ci in c:\n",
    "    svc_c=SVC(C=ci)\n",
    "    scores_svc_c=cross_val_score(svc_c,X_train,Y_train,cv=5)\n",
    "    as_svc_c.append(scores_svc_c.mean())\n",
    "    \n",
    "for g in gamma:\n",
    "    svc_g=SVC(gamma=g)\n",
    "    scores_svc_g=cross_val_score(svc_g,X_train,Y_train,cv=5)\n",
    "    as_svc_g.append(scores_svc_g.mean())\n",
    "    \n",
    "for k in kernel:\n",
    "    svc_k=SVC(kernel=k)\n",
    "    scores_svc_k=cross_val_score(svc_k,X_train,Y_train,cv=5)\n",
    "    as_svc_k.append(scores_svc_k.mean())\n",
    "\n",
    "for d in deg:\n",
    "    svc_d=SVC(kernel='poly',degree=d)\n",
    "    scores_svc_d=cross_val_score(svc_d,X_train,Y_train,cv=5)\n",
    "    as_svc_d.append(scores_svc_d.mean())"
   ]
  },
  {
   "cell_type": "code",
   "execution_count": 68,
   "id": "751c0f1e",
   "metadata": {},
   "outputs": [
    {
     "name": "stdout",
     "output_type": "stream",
     "text": [
      "\n",
      "default SVC: 0.6215458937198067\n",
      "\n",
      "default LinearSVC: 0.6797101449275361\n",
      "\n",
      "C:\n",
      "{0.01: 0.546280193236715,\n",
      " 0.1: 0.546280193236715,\n",
      " 1.0: 0.6215458937198067,\n",
      " 10.0: 0.669951690821256,\n",
      " 100.0: 0.7096618357487923}\n",
      "\n",
      "gamma:\n",
      "{0.01: 0.5284057971014493,\n",
      " 0.1: 0.546280193236715,\n",
      " 1.0: 0.546280193236715,\n",
      " 10.0: 0.546280193236715,\n",
      " 100.0: 0.546280193236715}\n",
      "\n",
      "kernel\n",
      "{'linear': 0.8326570048309179,\n",
      " 'rbf': 0.6215458937198067,\n",
      " 'sigmoid': 0.546280193236715}\n",
      "\n",
      "degree in polynomial kernel\n",
      "{4: 0.634975845410628,\n",
      " 5: 0.6306280193236715,\n",
      " 6: 0.6216425120772947}\n"
     ]
    }
   ],
   "source": [
    "print('\\ndefault SVC:',as_svc)\n",
    "print('\\ndefault LinearSVC:',as_lsvc)\n",
    "print('\\nC:')\n",
    "pprint(makedict(c,as_svc_c),width=1)\n",
    "print('\\ngamma:')\n",
    "pprint(makedict(gamma,as_svc_g),width=1)\n",
    "print('\\nkernel')\n",
    "pprint(makedict(kernel,as_svc_k),width=1)\n",
    "print('\\ndegree in polynomial kernel')\n",
    "pprint(makedict(deg,as_svc_d),width=1)"
   ]
  },
  {
   "cell_type": "code",
   "execution_count": 69,
   "id": "d8daadbd",
   "metadata": {},
   "outputs": [
    {
     "data": {
      "text/plain": [
       "Text(0.5, 1.0, 'scores of degree')"
      ]
     },
     "execution_count": 69,
     "metadata": {},
     "output_type": "execute_result"
    },
    {
     "data": {
      "image/png": "[encoded data removed]",
      "text/plain": [
       "<Figure size 1152x288 with 3 Axes>"
      ]
     },
     "metadata": {
      "needs_background": "light"
     },
     "output_type": "display_data"
    }
   ],
   "source": [
    "#plot graph\n",
    "svcfig= plt.figure(figsize=(16,4))\n",
    "\n",
    "gnbax11=svcfig.add_subplot(1,3,1)      #1st plot\n",
    "plt.plot(c,as_svc_c)\n",
    "plt.xlabel('Value of C')\n",
    "plt.ylabel(' scores')\n",
    "plt.title('scores of C')\n",
    "\n",
    "gnbax12=svcfig.add_subplot(1,3,2)     #2nd plot\n",
    "plt.plot(kernel,as_svc_k)\n",
    "plt.xlabel('Value of kernel')\n",
    "plt.ylabel(' scores')\n",
    "plt.title('scores of kernel')\n",
    "\n",
    "gnbax13=svcfig.add_subplot(1,3,3)     #3rd plot\n",
    "plt.plot(deg,as_svc_d)\n",
    "plt.xlabel('Value of degree')\n",
    "plt.ylabel(' scores')\n",
    "plt.title('scores of degree')"
   ]
  },
  {
   "cell_type": "code",
   "execution_count": 70,
   "id": "b12fee1f",
   "metadata": {},
   "outputs": [
    {
     "name": "stdout",
     "output_type": "stream",
     "text": [
      "largest:\n",
      "C:  100.0\n",
      "gamma:  0.1\n",
      "kernel:  linear\n",
      "degree:  4\n"
     ]
    }
   ],
   "source": [
    "#print out largest score's \n",
    "print('largest:')\n",
    "print('C: ', c[as_svc_c.index(max(as_svc_c))])\n",
    "print('gamma: ',gamma[as_svc_g.index(max(as_svc_g))])\n",
    "print('kernel: ',kernel[ as_svc_k.index(max(as_svc_k))])\n",
    "print('degree: ',deg[ as_svc_d.index(max(as_svc_d))])"
   ]
  },
  {
   "cell_type": "code",
   "execution_count": 71,
   "id": "7722ac04",
   "metadata": {},
   "outputs": [
    {
     "name": "stdout",
     "output_type": "stream",
     "text": [
      "Training time: 11.689191102981567\n"
     ]
    },
    {
     "data": {
      "text/html": [
       "<style>#sk-container-id-5 {color: black;background-color: white;}#sk-container-id-5 pre{padding: 0;}#sk-container-id-5 div.sk-toggleable {background-color: white;}#sk-container-id-5 label.sk-toggleable__label {cursor: pointer;display: block;width: 100%;margin-bottom: 0;padding: 0.3em;box-sizing: border-box;text-align: center;}#sk-container-id-5 label.sk-toggleable__label-arrow:before {content: \"▸\";float: left;margin-right: 0.25em;color: #696969;}#sk-container-id-5 label.sk-toggleable__label-arrow:hover:before {color: black;}#sk-container-id-5 div.sk-estimator:hover label.sk-toggleable__label-arrow:before {color: black;}#sk-container-id-5 div.sk-toggleable__content {max-height: 0;max-width: 0;overflow: hidden;text-align: left;background-color: #f0f8ff;}#sk-container-id-5 div.sk-toggleable__content pre {margin: 0.2em;color: black;border-radius: 0.25em;background-color: #f0f8ff;}#sk-container-id-5 input.sk-toggleable__control:checked~div.sk-toggleable__content {max-height: 200px;max-width: 100%;overflow: auto;}#sk-container-id-5 input.sk-toggleable__control:checked~label.sk-toggleable__label-arrow:before {content: \"▾\";}#sk-container-id-5 div.sk-estimator input.sk-toggleable__control:checked~label.sk-toggleable__label {background-color: #d4ebff;}#sk-container-id-5 div.sk-label input.sk-toggleable__control:checked~label.sk-toggleable__label {background-color: #d4ebff;}#sk-container-id-5 input.sk-hidden--visually {border: 0;clip: rect(1px 1px 1px 1px);clip: rect(1px, 1px, 1px, 1px);height: 1px;margin: -1px;overflow: hidden;padding: 0;position: absolute;width: 1px;}#sk-container-id-5 div.sk-estimator {font-family: monospace;background-color: #f0f8ff;border: 1px dotted black;border-radius: 0.25em;box-sizing: border-box;margin-bottom: 0.5em;}#sk-container-id-5 div.sk-estimator:hover {background-color: #d4ebff;}#sk-container-id-5 div.sk-parallel-item::after {content: \"\";width: 100%;border-bottom: 1px solid gray;flex-grow: 1;}#sk-container-id-5 div.sk-label:hover label.sk-toggleable__label {background-color: #d4ebff;}#sk-container-id-5 div.sk-serial::before {content: \"\";position: absolute;border-left: 1px solid gray;box-sizing: border-box;top: 0;bottom: 0;left: 50%;z-index: 0;}#sk-container-id-5 div.sk-serial {display: flex;flex-direction: column;align-items: center;background-color: white;padding-right: 0.2em;padding-left: 0.2em;position: relative;}#sk-container-id-5 div.sk-item {position: relative;z-index: 1;}#sk-container-id-5 div.sk-parallel {display: flex;align-items: stretch;justify-content: center;background-color: white;position: relative;}#sk-container-id-5 div.sk-item::before, #sk-container-id-5 div.sk-parallel-item::before {content: \"\";position: absolute;border-left: 1px solid gray;box-sizing: border-box;top: 0;bottom: 0;left: 50%;z-index: -1;}#sk-container-id-5 div.sk-parallel-item {display: flex;flex-direction: column;z-index: 1;position: relative;background-color: white;}#sk-container-id-5 div.sk-parallel-item:first-child::after {align-self: flex-end;width: 50%;}#sk-container-id-5 div.sk-parallel-item:last-child::after {align-self: flex-start;width: 50%;}#sk-container-id-5 div.sk-parallel-item:only-child::after {width: 0;}#sk-container-id-5 div.sk-dashed-wrapped {border: 1px dashed gray;margin: 0 0.4em 0.5em 0.4em;box-sizing: border-box;padding-bottom: 0.4em;background-color: white;}#sk-container-id-5 div.sk-label label {font-family: monospace;font-weight: bold;display: inline-block;line-height: 1.2em;}#sk-container-id-5 div.sk-label-container {text-align: center;}#sk-container-id-5 div.sk-container {/* jupyter's `normalize.less` sets `[hidden] { display: none; }` but bootstrap.min.css set `[hidden] { display: none !important; }` so we also need the `!important` here to be able to override the default hidden behavior on the sphinx rendered scikit-learn.org. See: https://github.com/scikit-learn/scikit-learn/issues/21755 */display: inline-block !important;position: relative;}#sk-container-id-5 div.sk-text-repr-fallback {display: none;}</style><div id=\"sk-container-id-5\" class=\"sk-top-container\"><div class=\"sk-text-repr-fallback\"><pre>SVC(C=100, degree=4, gamma=0.1, kernel=&#x27;linear&#x27;)</pre><b>In a Jupyter environment, please rerun this cell to show the HTML representation or trust the notebook. <br />On GitHub, the HTML representation is unable to render, please try loading this page with nbviewer.org.</b></div><div class=\"sk-container\" hidden><div class=\"sk-item\"><div class=\"sk-estimator sk-toggleable\"><input class=\"sk-toggleable__control sk-hidden--visually\" id=\"sk-estimator-id-5\" type=\"checkbox\" checked><label for=\"sk-estimator-id-5\" class=\"sk-toggleable__label sk-toggleable__label-arrow\">SVC</label><div class=\"sk-toggleable__content\"><pre>SVC(C=100, degree=4, gamma=0.1, kernel=&#x27;linear&#x27;)</pre></div></div></div></div></div>"
      ],
      "text/plain": [
       "SVC(C=100, degree=4, gamma=0.1, kernel='linear')"
      ]
     },
     "execution_count": 71,
     "metadata": {},
     "output_type": "execute_result"
    }
   ],
   "source": [
    "#fit model\n",
    "svc=SVC(C=100,gamma=0.1,kernel='linear',degree=4)\n",
    "t_svc = time.time()  #start timer\n",
    "svc=svc.fit(X_train,Y_train)\n",
    "print(\"Training time:\", (time.time())-t_svc)  #stop timer\n",
    "svc"
   ]
  },
  {
   "cell_type": "code",
   "execution_count": 72,
   "id": "464c7fad",
   "metadata": {},
   "outputs": [
    {
     "name": "stdout",
     "output_type": "stream",
     "text": [
      "CPU times: total: 12.8 s\n",
      "Wall time: 12.8 s\n"
     ]
    }
   ],
   "source": [
    "%%time\n",
    "svc=SVC(C=100,gamma=0.1,kernel='linear',degree=4)\n",
    "svc=svc.fit(X_train,Y_train)\n",
    "Y_pred_svc=svc.predict(X_test)"
   ]
  },
  {
   "cell_type": "code",
   "execution_count": 73,
   "id": "34d011c2",
   "metadata": {},
   "outputs": [
    {
     "name": "stdout",
     "output_type": "stream",
     "text": [
      "[1 1 1 0 1 0 1 1 1 1 1 1 1 1 1 1 0 1 0 0 0 1 1 1 1 1 1 1 0 0 0 1 0 0 1 0 1\n",
      " 0 1 1 0 0 1 0 0 1 1 0 1 1 1 1 1 1 1 0 0 1 0 1 1 1 0 1 0 1 1 1 0 0 0 1 1 0\n",
      " 0 1]\n"
     ]
    }
   ],
   "source": [
    "print(Y_pred_svc)"
   ]
  },
  {
   "cell_type": "markdown",
   "id": "4e0cc2a8",
   "metadata": {},
   "source": [
    "### train, test set 2"
   ]
  },
  {
   "cell_type": "code",
   "execution_count": 74,
   "id": "fd4f33bc",
   "metadata": {},
   "outputs": [
    {
     "name": "stderr",
     "output_type": "stream",
     "text": [
      "C:\\Users\\user\\AppData\\Local\\Programs\\Python\\Python310\\lib\\site-packages\\sklearn\\svm\\_base.py:1225: ConvergenceWarning: Liblinear failed to converge, increase the number of iterations.\n",
      "  warnings.warn(\n",
      "C:\\Users\\user\\AppData\\Local\\Programs\\Python\\Python310\\lib\\site-packages\\sklearn\\svm\\_base.py:1225: ConvergenceWarning: Liblinear failed to converge, increase the number of iterations.\n",
      "  warnings.warn(\n",
      "C:\\Users\\user\\AppData\\Local\\Programs\\Python\\Python310\\lib\\site-packages\\sklearn\\svm\\_base.py:1225: ConvergenceWarning: Liblinear failed to converge, increase the number of iterations.\n",
      "  warnings.warn(\n",
      "C:\\Users\\user\\AppData\\Local\\Programs\\Python\\Python310\\lib\\site-packages\\sklearn\\svm\\_base.py:1225: ConvergenceWarning: Liblinear failed to converge, increase the number of iterations.\n",
      "  warnings.warn(\n",
      "C:\\Users\\user\\AppData\\Local\\Programs\\Python\\Python310\\lib\\site-packages\\sklearn\\svm\\_base.py:1225: ConvergenceWarning: Liblinear failed to converge, increase the number of iterations.\n",
      "  warnings.warn(\n"
     ]
    }
   ],
   "source": [
    "scores_lsvc2=cross_val_score(lsvc,X_train2,Y_train2,cv=5)\n",
    "as_lsvc2=scores_lsvc2.mean()"
   ]
  },
  {
   "cell_type": "code",
   "execution_count": 75,
   "id": "705e5ae9",
   "metadata": {},
   "outputs": [],
   "source": [
    "scores_svc2=cross_val_score(svc,X_train2,Y_train2,cv=5)\n",
    "as_svc2=scores_svc2.mean()"
   ]
  },
  {
   "cell_type": "code",
   "execution_count": 76,
   "id": "6816954a",
   "metadata": {},
   "outputs": [],
   "source": [
    "as_svc_c2=[]\n",
    "as_svc_g2=[]\n",
    "as_svc_k2=[]\n",
    "as_svc_d2=[]\n",
    "\n",
    "for ci in c:\n",
    "    svc_c=SVC(C=ci)\n",
    "    scores_svc_c2=cross_val_score(svc_c,X_train2,Y_train2,cv=5)\n",
    "    as_svc_c2.append(scores_svc_c2.mean())\n",
    "    \n",
    "for g in gamma:\n",
    "    svc_g=SVC(gamma=g)\n",
    "    scores_svc_g2=cross_val_score(svc_g,X_train2,Y_train2,cv=5)\n",
    "    as_svc_g2.append(scores_svc_g2.mean())\n",
    "    \n",
    "for k in kernel:\n",
    "    svc_k=SVC(kernel=k)\n",
    "    scores_svc_k2=cross_val_score(svc_k,X_train2,Y_train2,cv=5)\n",
    "    as_svc_k2.append(scores_svc_k2.mean())\n",
    "\n",
    "for d in deg:\n",
    "    svc_d=SVC(kernel='poly',degree=d)\n",
    "    scores_svc_d2=cross_val_score(svc_d,X_train2,Y_train2,cv=5)\n",
    "    as_svc_d2.append(scores_svc_d2.mean())"
   ]
  },
  {
   "cell_type": "code",
   "execution_count": 77,
   "id": "796a986d",
   "metadata": {},
   "outputs": [
    {
     "name": "stdout",
     "output_type": "stream",
     "text": [
      "\n",
      "default SVC: 0.7976190476190477\n",
      "\n",
      "default LinearSVC: 0.672704081632653\n",
      "\n",
      "C:\n",
      "{0.01: 0.5537414965986394,\n",
      " 0.1: 0.5537414965986394,\n",
      " 1.0: 0.6404761904761905,\n",
      " 10.0: 0.6653911564625851,\n",
      " 100.0: 0.6942176870748299}\n",
      "\n",
      "gamma:\n",
      "{0.01: 0.55,\n",
      " 0.1: 0.5537414965986394,\n",
      " 1.0: 0.5537414965986394,\n",
      " 10.0: 0.5537414965986394,\n",
      " 100.0: 0.5537414965986394}\n",
      "\n",
      "kernel\n",
      "{'linear': 0.805952380952381,\n",
      " 'rbf': 0.6404761904761905,\n",
      " 'sigmoid': 0.5537414965986394}\n",
      "\n",
      "degree in polynomial kernel\n",
      "{4: 0.6695578231292518,\n",
      " 5: 0.6737244897959184,\n",
      " 6: 0.6694727891156462}\n"
     ]
    }
   ],
   "source": [
    "print('\\ndefault SVC:',as_svc2)\n",
    "print('\\ndefault LinearSVC:',as_lsvc2)\n",
    "print('\\nC:')\n",
    "pprint(makedict(c,as_svc_c2),width=1)\n",
    "print('\\ngamma:')\n",
    "pprint(makedict(gamma,as_svc_g2),width=1)\n",
    "print('\\nkernel')\n",
    "pprint(makedict(kernel,as_svc_k2),width=1)\n",
    "print('\\ndegree in polynomial kernel')\n",
    "pprint(makedict(deg,as_svc_d2),width=1)"
   ]
  },
  {
   "cell_type": "code",
   "execution_count": 78,
   "id": "0185e3eb",
   "metadata": {},
   "outputs": [
    {
     "data": {
      "text/plain": [
       "Text(0.5, 1.0, 'scores of degree')"
      ]
     },
     "execution_count": 78,
     "metadata": {},
     "output_type": "execute_result"
    },
    {
     "data": {
      "image/png": "[encoded data removed]",
      "text/plain": [
       "<Figure size 1152x288 with 3 Axes>"
      ]
     },
     "metadata": {
      "needs_background": "light"
     },
     "output_type": "display_data"
    }
   ],
   "source": [
    "#plot graph\n",
    "svcfig2= plt.figure(figsize=(16,4))\n",
    "\n",
    "gnbax21=svcfig2.add_subplot(1,3,1)      #1st plot\n",
    "plt.plot(c,as_svc_c2)\n",
    "plt.xlabel('Value of C')\n",
    "plt.ylabel(' scores')\n",
    "plt.title('scores of C')\n",
    "\n",
    "gnbax22=svcfig2.add_subplot(1,3,2)     #2nd plot\n",
    "plt.plot(kernel,as_svc_k2)\n",
    "plt.xlabel('Value of kernel')\n",
    "plt.ylabel(' scores')\n",
    "plt.title('scores of kernel')\n",
    "\n",
    "gnbax23=svcfig2.add_subplot(1,3,3)     #3rd plot\n",
    "plt.plot(deg,as_svc_d2)\n",
    "plt.xlabel('Value of degree')\n",
    "plt.ylabel(' scores')\n",
    "plt.title('scores of degree')"
   ]
  },
  {
   "cell_type": "code",
   "execution_count": 79,
   "id": "3648cd5f",
   "metadata": {},
   "outputs": [
    {
     "name": "stdout",
     "output_type": "stream",
     "text": [
      "largest:\n",
      "C:  100.0\n",
      "gamma:  0.1\n",
      "kernel:  linear\n",
      "degree:  5\n"
     ]
    }
   ],
   "source": [
    "#print out largest score's \n",
    "print('largest:')\n",
    "print('C: ', c[as_svc_c2.index(max(as_svc_c2))])\n",
    "print('gamma: ',gamma[as_svc_g2.index(max(as_svc_g2))])\n",
    "print('kernel: ',kernel[ as_svc_k2.index(max(as_svc_k2))])\n",
    "print('degree: ',deg[ as_svc_d2.index(max(as_svc_d2))])"
   ]
  },
  {
   "cell_type": "code",
   "execution_count": 80,
   "id": "b10290f8",
   "metadata": {},
   "outputs": [
    {
     "name": "stdout",
     "output_type": "stream",
     "text": [
      "Training time: 10.474620580673218\n"
     ]
    },
    {
     "data": {
      "text/html": [
       "<style>#sk-container-id-6 {color: black;background-color: white;}#sk-container-id-6 pre{padding: 0;}#sk-container-id-6 div.sk-toggleable {background-color: white;}#sk-container-id-6 label.sk-toggleable__label {cursor: pointer;display: block;width: 100%;margin-bottom: 0;padding: 0.3em;box-sizing: border-box;text-align: center;}#sk-container-id-6 label.sk-toggleable__label-arrow:before {content: \"▸\";float: left;margin-right: 0.25em;color: #696969;}#sk-container-id-6 label.sk-toggleable__label-arrow:hover:before {color: black;}#sk-container-id-6 div.sk-estimator:hover label.sk-toggleable__label-arrow:before {color: black;}#sk-container-id-6 div.sk-toggleable__content {max-height: 0;max-width: 0;overflow: hidden;text-align: left;background-color: #f0f8ff;}#sk-container-id-6 div.sk-toggleable__content pre {margin: 0.2em;color: black;border-radius: 0.25em;background-color: #f0f8ff;}#sk-container-id-6 input.sk-toggleable__control:checked~div.sk-toggleable__content {max-height: 200px;max-width: 100%;overflow: auto;}#sk-container-id-6 input.sk-toggleable__control:checked~label.sk-toggleable__label-arrow:before {content: \"▾\";}#sk-container-id-6 div.sk-estimator input.sk-toggleable__control:checked~label.sk-toggleable__label {background-color: #d4ebff;}#sk-container-id-6 div.sk-label input.sk-toggleable__control:checked~label.sk-toggleable__label {background-color: #d4ebff;}#sk-container-id-6 input.sk-hidden--visually {border: 0;clip: rect(1px 1px 1px 1px);clip: rect(1px, 1px, 1px, 1px);height: 1px;margin: -1px;overflow: hidden;padding: 0;position: absolute;width: 1px;}#sk-container-id-6 div.sk-estimator {font-family: monospace;background-color: #f0f8ff;border: 1px dotted black;border-radius: 0.25em;box-sizing: border-box;margin-bottom: 0.5em;}#sk-container-id-6 div.sk-estimator:hover {background-color: #d4ebff;}#sk-container-id-6 div.sk-parallel-item::after {content: \"\";width: 100%;border-bottom: 1px solid gray;flex-grow: 1;}#sk-container-id-6 div.sk-label:hover label.sk-toggleable__label {background-color: #d4ebff;}#sk-container-id-6 div.sk-serial::before {content: \"\";position: absolute;border-left: 1px solid gray;box-sizing: border-box;top: 0;bottom: 0;left: 50%;z-index: 0;}#sk-container-id-6 div.sk-serial {display: flex;flex-direction: column;align-items: center;background-color: white;padding-right: 0.2em;padding-left: 0.2em;position: relative;}#sk-container-id-6 div.sk-item {position: relative;z-index: 1;}#sk-container-id-6 div.sk-parallel {display: flex;align-items: stretch;justify-content: center;background-color: white;position: relative;}#sk-container-id-6 div.sk-item::before, #sk-container-id-6 div.sk-parallel-item::before {content: \"\";position: absolute;border-left: 1px solid gray;box-sizing: border-box;top: 0;bottom: 0;left: 50%;z-index: -1;}#sk-container-id-6 div.sk-parallel-item {display: flex;flex-direction: column;z-index: 1;position: relative;background-color: white;}#sk-container-id-6 div.sk-parallel-item:first-child::after {align-self: flex-end;width: 50%;}#sk-container-id-6 div.sk-parallel-item:last-child::after {align-self: flex-start;width: 50%;}#sk-container-id-6 div.sk-parallel-item:only-child::after {width: 0;}#sk-container-id-6 div.sk-dashed-wrapped {border: 1px dashed gray;margin: 0 0.4em 0.5em 0.4em;box-sizing: border-box;padding-bottom: 0.4em;background-color: white;}#sk-container-id-6 div.sk-label label {font-family: monospace;font-weight: bold;display: inline-block;line-height: 1.2em;}#sk-container-id-6 div.sk-label-container {text-align: center;}#sk-container-id-6 div.sk-container {/* jupyter's `normalize.less` sets `[hidden] { display: none; }` but bootstrap.min.css set `[hidden] { display: none !important; }` so we also need the `!important` here to be able to override the default hidden behavior on the sphinx rendered scikit-learn.org. See: https://github.com/scikit-learn/scikit-learn/issues/21755 */display: inline-block !important;position: relative;}#sk-container-id-6 div.sk-text-repr-fallback {display: none;}</style><div id=\"sk-container-id-6\" class=\"sk-top-container\"><div class=\"sk-text-repr-fallback\"><pre>SVC(C=100, degree=5, gamma=0.1, kernel=&#x27;linear&#x27;)</pre><b>In a Jupyter environment, please rerun this cell to show the HTML representation or trust the notebook. <br />On GitHub, the HTML representation is unable to render, please try loading this page with nbviewer.org.</b></div><div class=\"sk-container\" hidden><div class=\"sk-item\"><div class=\"sk-estimator sk-toggleable\"><input class=\"sk-toggleable__control sk-hidden--visually\" id=\"sk-estimator-id-6\" type=\"checkbox\" checked><label for=\"sk-estimator-id-6\" class=\"sk-toggleable__label sk-toggleable__label-arrow\">SVC</label><div class=\"sk-toggleable__content\"><pre>SVC(C=100, degree=5, gamma=0.1, kernel=&#x27;linear&#x27;)</pre></div></div></div></div></div>"
      ],
      "text/plain": [
       "SVC(C=100, degree=5, gamma=0.1, kernel='linear')"
      ]
     },
     "execution_count": 80,
     "metadata": {},
     "output_type": "execute_result"
    }
   ],
   "source": [
    "#fit model\n",
    "svc2=SVC(C=100,gamma=0.1,kernel='linear',degree=5)\n",
    "t_svc2 = time.time()  #start timer\n",
    "svc2=svc2.fit(X_train2,Y_train2)\n",
    "print(\"Training time:\", (time.time())-t_svc2)  #stop timer\n",
    "svc2"
   ]
  },
  {
   "cell_type": "code",
   "execution_count": 81,
   "id": "b99a9069",
   "metadata": {},
   "outputs": [
    {
     "name": "stdout",
     "output_type": "stream",
     "text": [
      "CPU times: total: 9.78 s\n",
      "Wall time: 9.88 s\n"
     ]
    }
   ],
   "source": [
    "%%time\n",
    "svc2=SVC(C=100,gamma=0.1,kernel='linear',degree=5)\n",
    "svc2=svc2.fit(X_train2,Y_train2)\n",
    "Y_pred_svc2=svc2.predict(X_test2)"
   ]
  },
  {
   "cell_type": "code",
   "execution_count": 82,
   "id": "5aa1d9d7",
   "metadata": {},
   "outputs": [
    {
     "name": "stdout",
     "output_type": "stream",
     "text": [
      "[1 1 1 1 0 0 0 1 0 0 0 0 0 0 0 1 1 1 1 1 1 0 0 1 1 1 1 1 1 1 0 1 0 1 1 1 1\n",
      " 1 0 1 1 1 1 0 1 0 1 0 0 1 0 1 0 1 1 0 0 0 1 1 0]\n"
     ]
    }
   ],
   "source": [
    "print(Y_pred_svc2)"
   ]
  },
  {
   "cell_type": "markdown",
   "id": "3e3db97a",
   "metadata": {},
   "source": [
    "# performance measure\n"
   ]
  },
  {
   "cell_type": "markdown",
   "id": "0cc954af",
   "metadata": {},
   "source": [
    "### classification report"
   ]
  },
  {
   "cell_type": "code",
   "execution_count": 83,
   "id": "3eab7253",
   "metadata": {},
   "outputs": [
    {
     "name": "stdout",
     "output_type": "stream",
     "text": [
      "Decision Tree: \n",
      "train,test set 1:\n",
      "              precision    recall  f1-score   support\n",
      "\n",
      "           0       0.89      0.69      0.77        35\n",
      "           1       0.78      0.93      0.84        41\n",
      "\n",
      "    accuracy                           0.82        76\n",
      "   macro avg       0.83      0.81      0.81        76\n",
      "weighted avg       0.83      0.82      0.81        76\n",
      "\n",
      "train,test set 2:\n",
      "              precision    recall  f1-score   support\n",
      "\n",
      "           0       0.87      0.67      0.75        30\n",
      "           1       0.74      0.90      0.81        31\n",
      "\n",
      "    accuracy                           0.79        61\n",
      "   macro avg       0.80      0.78      0.78        61\n",
      "weighted avg       0.80      0.79      0.78        61\n",
      "\n"
     ]
    }
   ],
   "source": [
    "print('Decision Tree: ')\n",
    "print('train,test set 1:')\n",
    "print(classification_report(Y_test,Y_pred_dtc))\n",
    "print('train,test set 2:')\n",
    "print(classification_report(Y_test2,Y_pred_dtc2))"
   ]
  },
  {
   "cell_type": "code",
   "execution_count": 84,
   "id": "60bd3da9",
   "metadata": {},
   "outputs": [
    {
     "name": "stdout",
     "output_type": "stream",
     "text": [
      "Naive Bayes: \n",
      "train,test set 1:\n",
      "              precision    recall  f1-score   support\n",
      "\n",
      "           0       0.93      0.71      0.81        35\n",
      "           1       0.80      0.95      0.87        41\n",
      "\n",
      "    accuracy                           0.84        76\n",
      "   macro avg       0.86      0.83      0.84        76\n",
      "weighted avg       0.86      0.84      0.84        76\n",
      "\n",
      "train,test set 2:\n",
      "              precision    recall  f1-score   support\n",
      "\n",
      "           0       0.96      0.80      0.87        30\n",
      "           1       0.83      0.97      0.90        31\n",
      "\n",
      "    accuracy                           0.89        61\n",
      "   macro avg       0.90      0.88      0.88        61\n",
      "weighted avg       0.90      0.89      0.88        61\n",
      "\n"
     ]
    }
   ],
   "source": [
    "print('Naive Bayes: ')\n",
    "print('train,test set 1:')\n",
    "print(classification_report(Y_test,Y_pred_gnb))\n",
    "print('train,test set 2:')\n",
    "print(classification_report(Y_test2,Y_pred_gnb2))"
   ]
  },
  {
   "cell_type": "code",
   "execution_count": 85,
   "id": "fafba298",
   "metadata": {},
   "outputs": [
    {
     "name": "stdout",
     "output_type": "stream",
     "text": [
      "SVM: \n",
      "train,test set 1:\n",
      "              precision    recall  f1-score   support\n",
      "\n",
      "           0       0.89      0.71      0.79        35\n",
      "           1       0.79      0.93      0.85        41\n",
      "\n",
      "    accuracy                           0.83        76\n",
      "   macro avg       0.84      0.82      0.82        76\n",
      "weighted avg       0.84      0.83      0.83        76\n",
      "\n",
      "train,test set 2:\n",
      "              precision    recall  f1-score   support\n",
      "\n",
      "           0       0.88      0.73      0.80        30\n",
      "           1       0.78      0.90      0.84        31\n",
      "\n",
      "    accuracy                           0.82        61\n",
      "   macro avg       0.83      0.82      0.82        61\n",
      "weighted avg       0.83      0.82      0.82        61\n",
      "\n"
     ]
    }
   ],
   "source": [
    "print('SVM: ')\n",
    "print('train,test set 1:')\n",
    "print(classification_report(Y_test,Y_pred_svc))\n",
    "print('train,test set 2:')\n",
    "print(classification_report(Y_test2,Y_pred_svc2))"
   ]
  },
  {
   "cell_type": "markdown",
   "id": "42a08e95",
   "metadata": {},
   "source": [
    "### confusion matrix"
   ]
  },
  {
   "cell_type": "code",
   "execution_count": 86,
   "id": "b4cda9c9",
   "metadata": {},
   "outputs": [
    {
     "name": "stdout",
     "output_type": "stream",
     "text": [
      "decision tree:\n",
      "\n",
      "train,test set 1: \n",
      "[[24 11]\n",
      " [ 3 38]]\n",
      "\n",
      "train,test set 2:\n",
      "[[20 10]\n",
      " [ 3 28]]\n"
     ]
    }
   ],
   "source": [
    "print('decision tree:')\n",
    "print('\\ntrain,test set 1: ')\n",
    "print(confusion_matrix(Y_test,Y_pred_dtc))\n",
    "print('\\ntrain,test set 2:')\n",
    "print(confusion_matrix(Y_test2,Y_pred_dtc2))"
   ]
  },
  {
   "cell_type": "code",
   "execution_count": 87,
   "id": "b6a94009",
   "metadata": {},
   "outputs": [
    {
     "data": {
      "image/png": "[encoded data removed]",
      "text/plain": [
       "<Figure size 720x288 with 4 Axes>"
      ]
     },
     "metadata": {
      "needs_background": "light"
     },
     "output_type": "display_data"
    }
   ],
   "source": [
    "fig1= plt.figure(figsize=(10,4))\n",
    "#1\n",
    "matrix11 = pd.DataFrame(confusion_matrix(Y_test,Y_pred_dtc))\n",
    "ax1 = fig1.add_subplot(1,2,1)\n",
    "sns.heatmap(matrix11,annot=True,cmap='RdYlGn')\n",
    "plt.title('Confusion Matrix -- Decison Tree -- Set 1')\n",
    "#2\n",
    "matrix12 = pd.DataFrame(confusion_matrix(Y_test2,Y_pred_dtc2))\n",
    "ax2 = fig1.add_subplot(1,2,2)\n",
    "sns.heatmap(matrix12,annot=True,cmap='RdYlGn')\n",
    "plt.title('Confusion Matrix -- Decison Tree -- Set 2')\n",
    "plt.show()"
   ]
  },
  {
   "cell_type": "code",
   "execution_count": 88,
   "id": "b07caf30",
   "metadata": {},
   "outputs": [
    {
     "name": "stdout",
     "output_type": "stream",
     "text": [
      "Naive Bayes: \n",
      "\n",
      "train,test set 1:\n",
      "[[25 10]\n",
      " [ 2 39]]\n",
      "\n",
      "train,test set 2:\n",
      "[[24  6]\n",
      " [ 1 30]]\n"
     ]
    }
   ],
   "source": [
    "print('Naive Bayes: ')\n",
    "print('\\ntrain,test set 1:')\n",
    "print(confusion_matrix(Y_test,Y_pred_gnb))\n",
    "print('\\ntrain,test set 2:')\n",
    "print(confusion_matrix(Y_test2,Y_pred_gnb2))"
   ]
  },
  {
   "cell_type": "code",
   "execution_count": 89,
   "id": "36ca935a",
   "metadata": {},
   "outputs": [
    {
     "data": {
      "image/png": "[encoded data removed]",
      "text/plain": [
       "<Figure size 720x288 with 4 Axes>"
      ]
     },
     "metadata": {
      "needs_background": "light"
     },
     "output_type": "display_data"
    }
   ],
   "source": [
    "fig2= plt.figure(figsize=(10,4))\n",
    "#1\n",
    "matrix21 = pd.DataFrame(confusion_matrix(Y_test,Y_pred_gnb))\n",
    "ax1 = fig2.add_subplot(1,2,1)\n",
    "sns.heatmap(matrix21,annot=True,cmap='RdYlGn')\n",
    "plt.title('Confusion Matrix -- Naive Bayes -- Set 1')\n",
    "#2\n",
    "matrix22 = pd.DataFrame(confusion_matrix(Y_test2,Y_pred_gnb2))\n",
    "ax2 = fig2.add_subplot(1,2,2)\n",
    "sns.heatmap(matrix22,annot=True,cmap='RdYlGn')\n",
    "plt.title('Confusion Matrix -- Naive Bayes -- Set 2')\n",
    "plt.show()"
   ]
  },
  {
   "cell_type": "code",
   "execution_count": 90,
   "id": "baa7048d",
   "metadata": {},
   "outputs": [
    {
     "name": "stdout",
     "output_type": "stream",
     "text": [
      "SVM: \n",
      "\n",
      "train,test set 1:\n",
      "[[25 10]\n",
      " [ 3 38]]\n",
      "\n",
      "train,test set 2:\n",
      "[[22  8]\n",
      " [ 3 28]]\n"
     ]
    }
   ],
   "source": [
    "print('SVM: ')\n",
    "print('\\ntrain,test set 1:')\n",
    "print(confusion_matrix(Y_test,Y_pred_svc))\n",
    "print('\\ntrain,test set 2:')\n",
    "print(confusion_matrix(Y_test2,Y_pred_svc2))"
   ]
  },
  {
   "cell_type": "code",
   "execution_count": 91,
   "id": "85ff0e84",
   "metadata": {},
   "outputs": [
    {
     "data": {
      "image/png": "[encoded data removed]",
      "text/plain": [
       "<Figure size 720x288 with 4 Axes>"
      ]
     },
     "metadata": {
      "needs_background": "light"
     },
     "output_type": "display_data"
    }
   ],
   "source": [
    "fig3= plt.figure(figsize=(10,4))\n",
    "#1\n",
    "matrix31 = pd.DataFrame(confusion_matrix(Y_test,Y_pred_svc))\n",
    "ax1 = fig3.add_subplot(1,2,1)\n",
    "sns.heatmap(matrix31,annot=True,cmap='RdYlGn')\n",
    "plt.title('Confusion Matrix -- SVM -- Set 1')\n",
    "#2\n",
    "matrix32 = pd.DataFrame(confusion_matrix(Y_test2,Y_pred_svc2))\n",
    "ax2 = fig3.add_subplot(1,2,2)\n",
    "sns.heatmap(matrix32,annot=True,cmap='RdYlGn')\n",
    "plt.title('Confusion Matrix -- SVM -- Set 2')\n",
    "plt.show()"
   ]
  },
  {
   "cell_type": "markdown",
   "id": "ca4baf6c",
   "metadata": {},
   "source": [
    "# champion model"
   ]
  },
  {
   "cell_type": "markdown",
   "id": "60b2035b",
   "metadata": {},
   "source": [
    "#### The champion model is Naive Bayes, so we add its prediction into the test set"
   ]
  },
  {
   "cell_type": "code",
   "execution_count": 92,
   "id": "cbf1da45",
   "metadata": {},
   "outputs": [
    {
     "data": {
      "text/html": [
       "<div>\n",
       "<style scoped>\n",
       "    .dataframe tbody tr th:only-of-type {\n",
       "        vertical-align: middle;\n",
       "    }\n",
       "\n",
       "    .dataframe tbody tr th {\n",
       "        vertical-align: top;\n",
       "    }\n",
       "\n",
       "    .dataframe thead th {\n",
       "        text-align: right;\n",
       "    }\n",
       "</style>\n",
       "<table border=\"1\" class=\"dataframe\">\n",
       "  <thead>\n",
       "    <tr style=\"text-align: right;\">\n",
       "      <th></th>\n",
       "      <th>age</th>\n",
       "      <th>sex</th>\n",
       "      <th>cp</th>\n",
       "      <th>trestbps</th>\n",
       "      <th>chol</th>\n",
       "      <th>thalach</th>\n",
       "      <th>exang</th>\n",
       "      <th>oldpeak</th>\n",
       "      <th>ca</th>\n",
       "      <th>thal</th>\n",
       "      <th>target</th>\n",
       "      <th>prediction</th>\n",
       "    </tr>\n",
       "  </thead>\n",
       "  <tbody>\n",
       "    <tr>\n",
       "      <th>55</th>\n",
       "      <td>52</td>\n",
       "      <td>1</td>\n",
       "      <td>1</td>\n",
       "      <td>134</td>\n",
       "      <td>201</td>\n",
       "      <td>158</td>\n",
       "      <td>0</td>\n",
       "      <td>0.8</td>\n",
       "      <td>1</td>\n",
       "      <td>2</td>\n",
       "      <td>1</td>\n",
       "      <td>1</td>\n",
       "    </tr>\n",
       "    <tr>\n",
       "      <th>156</th>\n",
       "      <td>47</td>\n",
       "      <td>1</td>\n",
       "      <td>2</td>\n",
       "      <td>130</td>\n",
       "      <td>253</td>\n",
       "      <td>179</td>\n",
       "      <td>0</td>\n",
       "      <td>0.0</td>\n",
       "      <td>0</td>\n",
       "      <td>2</td>\n",
       "      <td>1</td>\n",
       "      <td>1</td>\n",
       "    </tr>\n",
       "    <tr>\n",
       "      <th>278</th>\n",
       "      <td>58</td>\n",
       "      <td>0</td>\n",
       "      <td>1</td>\n",
       "      <td>136</td>\n",
       "      <td>319</td>\n",
       "      <td>152</td>\n",
       "      <td>0</td>\n",
       "      <td>0.0</td>\n",
       "      <td>2</td>\n",
       "      <td>2</td>\n",
       "      <td>0</td>\n",
       "      <td>1</td>\n",
       "    </tr>\n",
       "    <tr>\n",
       "      <th>233</th>\n",
       "      <td>64</td>\n",
       "      <td>1</td>\n",
       "      <td>0</td>\n",
       "      <td>120</td>\n",
       "      <td>246</td>\n",
       "      <td>96</td>\n",
       "      <td>1</td>\n",
       "      <td>2.2</td>\n",
       "      <td>1</td>\n",
       "      <td>2</td>\n",
       "      <td>0</td>\n",
       "      <td>0</td>\n",
       "    </tr>\n",
       "    <tr>\n",
       "      <th>21</th>\n",
       "      <td>44</td>\n",
       "      <td>1</td>\n",
       "      <td>2</td>\n",
       "      <td>130</td>\n",
       "      <td>233</td>\n",
       "      <td>179</td>\n",
       "      <td>1</td>\n",
       "      <td>0.4</td>\n",
       "      <td>0</td>\n",
       "      <td>2</td>\n",
       "      <td>1</td>\n",
       "      <td>1</td>\n",
       "    </tr>\n",
       "    <tr>\n",
       "      <th>...</th>\n",
       "      <td>...</td>\n",
       "      <td>...</td>\n",
       "      <td>...</td>\n",
       "      <td>...</td>\n",
       "      <td>...</td>\n",
       "      <td>...</td>\n",
       "      <td>...</td>\n",
       "      <td>...</td>\n",
       "      <td>...</td>\n",
       "      <td>...</td>\n",
       "      <td>...</td>\n",
       "      <td>...</td>\n",
       "    </tr>\n",
       "    <tr>\n",
       "      <th>145</th>\n",
       "      <td>70</td>\n",
       "      <td>1</td>\n",
       "      <td>1</td>\n",
       "      <td>156</td>\n",
       "      <td>245</td>\n",
       "      <td>143</td>\n",
       "      <td>0</td>\n",
       "      <td>0.0</td>\n",
       "      <td>0</td>\n",
       "      <td>2</td>\n",
       "      <td>1</td>\n",
       "      <td>1</td>\n",
       "    </tr>\n",
       "    <tr>\n",
       "      <th>282</th>\n",
       "      <td>59</td>\n",
       "      <td>1</td>\n",
       "      <td>2</td>\n",
       "      <td>126</td>\n",
       "      <td>218</td>\n",
       "      <td>134</td>\n",
       "      <td>0</td>\n",
       "      <td>2.2</td>\n",
       "      <td>1</td>\n",
       "      <td>1</td>\n",
       "      <td>0</td>\n",
       "      <td>1</td>\n",
       "    </tr>\n",
       "    <tr>\n",
       "      <th>224</th>\n",
       "      <td>54</td>\n",
       "      <td>1</td>\n",
       "      <td>0</td>\n",
       "      <td>110</td>\n",
       "      <td>239</td>\n",
       "      <td>126</td>\n",
       "      <td>1</td>\n",
       "      <td>2.8</td>\n",
       "      <td>1</td>\n",
       "      <td>3</td>\n",
       "      <td>0</td>\n",
       "      <td>0</td>\n",
       "    </tr>\n",
       "    <tr>\n",
       "      <th>245</th>\n",
       "      <td>48</td>\n",
       "      <td>1</td>\n",
       "      <td>0</td>\n",
       "      <td>124</td>\n",
       "      <td>274</td>\n",
       "      <td>166</td>\n",
       "      <td>0</td>\n",
       "      <td>0.5</td>\n",
       "      <td>0</td>\n",
       "      <td>3</td>\n",
       "      <td>0</td>\n",
       "      <td>1</td>\n",
       "    </tr>\n",
       "    <tr>\n",
       "      <th>124</th>\n",
       "      <td>39</td>\n",
       "      <td>0</td>\n",
       "      <td>2</td>\n",
       "      <td>94</td>\n",
       "      <td>199</td>\n",
       "      <td>179</td>\n",
       "      <td>0</td>\n",
       "      <td>0.0</td>\n",
       "      <td>0</td>\n",
       "      <td>2</td>\n",
       "      <td>1</td>\n",
       "      <td>1</td>\n",
       "    </tr>\n",
       "  </tbody>\n",
       "</table>\n",
       "<p>76 rows × 12 columns</p>\n",
       "</div>"
      ],
      "text/plain": [
       "     age  sex  cp  trestbps  chol  thalach  exang  oldpeak  ca  thal  target  \\\n",
       "55    52    1   1       134   201      158      0      0.8   1     2       1   \n",
       "156   47    1   2       130   253      179      0      0.0   0     2       1   \n",
       "278   58    0   1       136   319      152      0      0.0   2     2       0   \n",
       "233   64    1   0       120   246       96      1      2.2   1     2       0   \n",
       "21    44    1   2       130   233      179      1      0.4   0     2       1   \n",
       "..   ...  ...  ..       ...   ...      ...    ...      ...  ..   ...     ...   \n",
       "145   70    1   1       156   245      143      0      0.0   0     2       1   \n",
       "282   59    1   2       126   218      134      0      2.2   1     1       0   \n",
       "224   54    1   0       110   239      126      1      2.8   1     3       0   \n",
       "245   48    1   0       124   274      166      0      0.5   0     3       0   \n",
       "124   39    0   2        94   199      179      0      0.0   0     2       1   \n",
       "\n",
       "     prediction  \n",
       "55            1  \n",
       "156           1  \n",
       "278           1  \n",
       "233           0  \n",
       "21            1  \n",
       "..          ...  \n",
       "145           1  \n",
       "282           1  \n",
       "224           0  \n",
       "245           1  \n",
       "124           1  \n",
       "\n",
       "[76 rows x 12 columns]"
      ]
     },
     "execution_count": 92,
     "metadata": {},
     "output_type": "execute_result"
    }
   ],
   "source": [
    "df=pd.DataFrame(X_test)\n",
    "df['target']=Y_test\n",
    "df['prediction']=Y_pred_gnb\n",
    "df"
   ]
  },
  {
   "cell_type": "markdown",
   "id": "0629d46a",
   "metadata": {},
   "source": [
    "#### export to csv file"
   ]
  },
  {
   "cell_type": "code",
   "execution_count": 93,
   "id": "0f4e0903",
   "metadata": {},
   "outputs": [],
   "source": [
    "df.to_csv('results.csv')"
   ]
  }
 ],
 "metadata": {
  "kernelspec": {
   "display_name": "Python 3 (ipykernel)",
   "language": "python",
   "name": "python3"
  },
  "language_info": {
   "codemirror_mode": {
    "name": "ipython",
    "version": 3
   },
   "file_extension": ".py",
   "mimetype": "text/x-python",
   "name": "python",
   "nbconvert_exporter": "python",
   "pygments_lexer": "ipython3",
   "version": "3.10.4"
  }
 },
 "nbformat": 4,
 "nbformat_minor": 5
}
